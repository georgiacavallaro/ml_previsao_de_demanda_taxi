{
 "cells": [
  {
   "cell_type": "markdown",
   "metadata": {},
   "source": [
    "Olá, \n",
    "\n",
    "Meu nome é Ramon. Ao ao longo do texto farei algumas observações sobre melhorias no código. Nas partes em que não houver comentários, está tudo certo, ok? Estarei aberto a feedbacks e discussões sobre o tema.\n",
    "\n",
    "**Peço que mantenha e não altere os comentários que eu fizer por aqui para que possamos nos localizar posteriormente, ok?**\n",
    "\n",
    "Mais uma coisa, vamos utilizar um código de cores para você entender os meus feedbacks no seu notebook. Funciona assim:\n",
    "\n",
    "<div class=\"alert alert-block alert-success\">\n",
    "<b> Comentário do revisor: </b> <a class=\"tocSkip\"></a>\n",
    "\n",
    "Sucesso. Tudo foi feito corretamente.\n",
    "</div>\n",
    "\n",
    "<div class=\"alert alert-block alert-warning\">\n",
    "<b>Comentário do revisor: </b> <a class=\"tocSkip\"></a>\n",
    "\n",
    "Alerta não crítco, mas que pode ser corrigido para melhoria geral no seu código/análise\n",
    "</div>\n",
    "\n",
    "<div class=\"alert alert-block alert-danger\">\n",
    "\n",
    "<b>Comentário do revisor: </b> <a class=\"tocSkip\"></a>\n",
    "    \n",
    "Erro que precisa ser consertado, caso contrário seu projeto **não** será aceito.\n",
    "</div>\n",
    "\n",
    "Você pode me responder usando isso:\n",
    "<div class=\"alert alert-block alert-info\">\n",
    "<b>Resposta do Aluno.</b> <a class=\"tocSkip\"></a>\n",
    "</div>\n",
    "\n",
    "###\n",
    "\n",
    "<div class=\"alert alert-block alert-success\">\n",
    "<b>Comentário Geral do Revisor</b> <a class=\"tocSkip\"></a>\n",
    "\n",
    "Obrigado por enviar seu projeto. \n",
    "    \n",
    "Parabéns, você fez um bom trabalho.\n",
    "\n",
    "Como pontos fortes do projeto, destaco:\n",
    "- Código simples e eficiente (sem loop desnecessário)\n",
    "- Uso adequado dos recursos da lição\n",
    "- Ajustou vários modelos\n",
    "- Criou lag features\n",
    "    \n",
    "<span class=\"text-danger\">Porém, há espaço para melhorias conforme os itens apontados anteriormente. Destaco os  pontos a seguir: </span>\n",
    " * <span class=\"text-danger\"> Está havendo data leakage: https://machinelearningmastery.com/data-leakage-machine-learning/. Você precisa dividir em treino (treinar modelo), validação (escolher qual melhor hiperparãmetro) e teste (o melhor modelo é usado para predição final). Assim, você vai reportar o resultado final no conjunto de teste que é intocado. Pense assim: depois que você calibrou hiperparâmetro seu gerente te passou o conjunto de teste. </span>\n",
    "\n",
    "\n",
    "Portanto, sugiro que você corrija os pontos indicados.\n",
    "    \n",
    "Se você tiver alguma dúvida sobre de algo que você não tenha entendido, sinta-se à vontade para perguntar ao tutor ou deixar um comentário em **azul** para que, na próxima iteração, eu possa responder.\n",
    "\n",
    "Conte conosco. Lembre-se de que você pode tirar dúvidas com revisores usando os comentários ou buscar ajuda de um tutor.\n",
    "Bom trabalho. \n",
    "\n",
    "\n",
    "</div>\n",
    "\n",
    "\n"
   ]
  },
  {
   "cell_type": "markdown",
   "metadata": {},
   "source": [
    "<div class=\"alert alert-block alert-success\">\n",
    "<b> Comentário Geral do Revisor Final: </b> <a class=\"tocSkip\"></a>\n",
    "\n",
    "Tudo certo agora (eu deixei um warning pois há um erro de lógica no cálculo do tempo). Desejo sucesso na jornada. Parabéns pelo empenho.\n",
    "</div>"
   ]
  },
  {
   "cell_type": "markdown",
   "metadata": {},
   "source": [
    "# Descrição do Projeto\n",
    "\n",
    "A empresa Sweet Lift Taxi coletou dados históricos sobre pedidos de táxi nos aeroportos. Para atrair mais motoristas durante o horário de pico, precisamos prever a quantidade de pedidos de táxi para a próxima hora. \t\n",
    "Construa um modelo para tal predição.\n",
    "\n",
    "A métrica REQM *(RMSE)* no conjunto de teste não deve ser superior a 48.\n",
    "\n",
    "## Instruções do projeto\n",
    "\n",
    "1. Faça download dos dados e faça uma nova amostragem em uma hora.\n",
    "2. Analise os dados\n",
    "3. Treine diferentes modelos com diferentes hiperparâmetros. A amostra de teste deve ser 10% do conjunto de dados inicial.\n",
    "4. Teste os dados usando a amostra de teste e forneça uma conclusão.\n",
    "\n",
    "## Descrição dos dados\n",
    "\n",
    "Os dados são armazenados no arquivo `taxi.csv`. O número de pedidos está na coluna `num_orders`."
   ]
  },
  {
   "cell_type": "markdown",
   "metadata": {},
   "source": [
    "## Preparação "
   ]
  },
  {
   "cell_type": "code",
   "execution_count": 22,
   "metadata": {},
   "outputs": [
    {
     "name": "stdout",
     "output_type": "stream",
     "text": [
      "Requirement already satisfied: scikit-learn in /home/jovyan/.local/lib/python3.9/site-packages (1.6.0)\n",
      "Requirement already satisfied: numpy>=1.19.5 in /opt/conda/envs/python3/lib/python3.9/site-packages (from scikit-learn) (1.21.2)\n",
      "Requirement already satisfied: scipy>=1.6.0 in /opt/conda/envs/python3/lib/python3.9/site-packages (from scikit-learn) (1.10.1)\n",
      "Requirement already satisfied: joblib>=1.2.0 in /opt/conda/envs/python3/lib/python3.9/site-packages (from scikit-learn) (1.4.2)\n",
      "Requirement already satisfied: threadpoolctl>=3.1.0 in /opt/conda/envs/python3/lib/python3.9/site-packages (from scikit-learn) (3.5.0)\n",
      "Note: you may need to restart the kernel to use updated packages.\n"
     ]
    }
   ],
   "source": [
    "pip install --upgrade --user scikit-learn"
   ]
  },
  {
   "cell_type": "code",
   "execution_count": 23,
   "metadata": {},
   "outputs": [],
   "source": [
    "# Carregando bibliotecas\n",
    "import time\n",
    "import pandas as pd\n",
    "\n",
    "from catboost import Pool, CatBoostRegressor\n",
    "\n",
    "from matplotlib import pyplot as plt\n",
    "\n",
    "from sklearn.model_selection import train_test_split\n",
    "from sklearn.linear_model import LinearRegression\n",
    "from sklearn.metrics import root_mean_squared_error\n",
    "from sklearn.neighbors import KNeighborsRegressor\n",
    "\n",
    "from statsmodels.tsa.seasonal import seasonal_decompose\n",
    "\n",
    "from statsmodels.tsa.statespace.sarimax import SARIMAX"
   ]
  },
  {
   "cell_type": "code",
   "execution_count": 24,
   "metadata": {},
   "outputs": [],
   "source": [
    "# Carregando os dados\n",
    "data = pd.read_csv('/datasets/taxi.csv', index_col=[0], parse_dates=[0])\n",
    "\n",
    "df = pd.DataFrame(data)"
   ]
  },
  {
   "cell_type": "code",
   "execution_count": 25,
   "metadata": {},
   "outputs": [],
   "source": [
    "# Fazendo reamostragem dos dados para intervalos de 1 hora\n",
    "df.sort_index(inplace=True)\n",
    "df = df.resample('1H').sum()"
   ]
  },
  {
   "cell_type": "markdown",
   "metadata": {},
   "source": [
    "## Análise"
   ]
  },
  {
   "cell_type": "code",
   "execution_count": 26,
   "metadata": {},
   "outputs": [
    {
     "name": "stdout",
     "output_type": "stream",
     "text": [
      "<class 'pandas.core.frame.DataFrame'>\n",
      "DatetimeIndex: 4416 entries, 2018-03-01 00:00:00 to 2018-08-31 23:00:00\n",
      "Freq: H\n",
      "Data columns (total 1 columns):\n",
      " #   Column      Non-Null Count  Dtype\n",
      "---  ------      --------------  -----\n",
      " 0   num_orders  4416 non-null   int64\n",
      "dtypes: int64(1)\n",
      "memory usage: 69.0 KB\n"
     ]
    }
   ],
   "source": [
    "# Visualizando os dados\n",
    "df.info()"
   ]
  },
  {
   "cell_type": "code",
   "execution_count": 27,
   "metadata": {},
   "outputs": [
    {
     "data": {
      "text/html": [
       "<div>\n",
       "<style scoped>\n",
       "    .dataframe tbody tr th:only-of-type {\n",
       "        vertical-align: middle;\n",
       "    }\n",
       "\n",
       "    .dataframe tbody tr th {\n",
       "        vertical-align: top;\n",
       "    }\n",
       "\n",
       "    .dataframe thead th {\n",
       "        text-align: right;\n",
       "    }\n",
       "</style>\n",
       "<table border=\"1\" class=\"dataframe\">\n",
       "  <thead>\n",
       "    <tr style=\"text-align: right;\">\n",
       "      <th></th>\n",
       "      <th>num_orders</th>\n",
       "    </tr>\n",
       "    <tr>\n",
       "      <th>datetime</th>\n",
       "      <th></th>\n",
       "    </tr>\n",
       "  </thead>\n",
       "  <tbody>\n",
       "    <tr>\n",
       "      <th>2018-03-01 00:00:00</th>\n",
       "      <td>124</td>\n",
       "    </tr>\n",
       "    <tr>\n",
       "      <th>2018-03-01 01:00:00</th>\n",
       "      <td>85</td>\n",
       "    </tr>\n",
       "    <tr>\n",
       "      <th>2018-03-01 02:00:00</th>\n",
       "      <td>71</td>\n",
       "    </tr>\n",
       "    <tr>\n",
       "      <th>2018-03-01 03:00:00</th>\n",
       "      <td>66</td>\n",
       "    </tr>\n",
       "    <tr>\n",
       "      <th>2018-03-01 04:00:00</th>\n",
       "      <td>43</td>\n",
       "    </tr>\n",
       "  </tbody>\n",
       "</table>\n",
       "</div>"
      ],
      "text/plain": [
       "                     num_orders\n",
       "datetime                       \n",
       "2018-03-01 00:00:00         124\n",
       "2018-03-01 01:00:00          85\n",
       "2018-03-01 02:00:00          71\n",
       "2018-03-01 03:00:00          66\n",
       "2018-03-01 04:00:00          43"
      ]
     },
     "execution_count": 27,
     "metadata": {},
     "output_type": "execute_result"
    }
   ],
   "source": [
    "df.head(5)"
   ]
  },
  {
   "cell_type": "markdown",
   "metadata": {},
   "source": [
    "O conjunto de dados possui uma coluna *(objetivo)* e índices em formato *datetime*, apropriados para Series Temporais:\n",
    "- **num_orders**: Número de pedidos, não há valores nulos, formato correto *(int)*."
   ]
  },
  {
   "cell_type": "code",
   "execution_count": 28,
   "metadata": {},
   "outputs": [],
   "source": [
    "# Fazendo decomposição sazonal\n",
    "decomposed = seasonal_decompose(df)"
   ]
  },
  {
   "cell_type": "code",
   "execution_count": 29,
   "metadata": {},
   "outputs": [
    {
     "data": {
      "image/png": "[encoded data removed]",
      "text/plain": [
       "<Figure size 800x800 with 3 Axes>"
      ]
     },
     "metadata": {},
     "output_type": "display_data"
    }
   ],
   "source": [
    "# Gerando gráfico de decomposição sazonal\n",
    "plt.figure(figsize=(8,8))\n",
    "plt.subplot(311)\n",
    "decomposed.trend.plot(ax=plt.gca())\n",
    "plt.title('Tendência')\n",
    "plt.subplot(312)\n",
    "decomposed.seasonal.plot(ax=plt.gca())\n",
    "plt.title('Sazonalidade')\n",
    "plt.subplot(313)\n",
    "decomposed.resid.plot(ax=plt.gca())\n",
    "plt.title(\"Resíduos\")\n",
    "plt.tight_layout()"
   ]
  },
  {
   "cell_type": "code",
   "execution_count": 30,
   "metadata": {},
   "outputs": [],
   "source": [
    "# Fazendo decomposição sazonal em um intervalo de tempo menor (100 unidades)\n",
    "decomposed = seasonal_decompose(df['num_orders'].head(200))"
   ]
  },
  {
   "cell_type": "code",
   "execution_count": 31,
   "metadata": {},
   "outputs": [
    {
     "data": {
      "image/png": "[encoded data removed]",
      "text/plain": [
       "<Figure size 800x800 with 3 Axes>"
      ]
     },
     "metadata": {},
     "output_type": "display_data"
    }
   ],
   "source": [
    "# Gerando gráfico de decomposição sazonal ampliado\n",
    "plt.figure(figsize=(8,8))\n",
    "plt.subplot(311)\n",
    "decomposed.trend.plot(ax=plt.gca())\n",
    "plt.title('Tendência')\n",
    "plt.subplot(312)\n",
    "decomposed.seasonal.plot(ax=plt.gca())\n",
    "plt.title('Sazonalidade')\n",
    "plt.subplot(313)\n",
    "decomposed.resid.plot(ax=plt.gca())\n",
    "plt.title(\"Resíduos\")\n",
    "plt.tight_layout()"
   ]
  },
  {
   "cell_type": "markdown",
   "metadata": {},
   "source": [
    "Sobre os valores há uma **tendência** crescente, principalmente a partir do mês de *junho*, com aumento mais forte da demanda a partir do mês de *agosto*.\n",
    "\n",
    "A **sazonalidade** é bem instensa, há padrões regulares que se repetem frequentemente, o que justifica a janela temporal escolhida para o modelo de *1 hora*.\n",
    "\n",
    "Há picos intensos nos **resíduos**, principalmente no mês de agosto, indicando alta volatilidade na demanda desde mês.\n",
    "\n",
    "Ampliando os resultados é possível notar uma **sazonalidade** de 1 dia *(24 horas)*."
   ]
  },
  {
   "cell_type": "markdown",
   "metadata": {},
   "source": [
    "## Treinamento\n",
    "\n",
    "### Preparando os conjuntos de dados"
   ]
  },
  {
   "cell_type": "code",
   "execution_count": 32,
   "metadata": {},
   "outputs": [],
   "source": [
    "# Criando função para criação de características do modelo:\n",
    "def make_features(df, max_lag, rolling_mean_size):\n",
    "    df['year'] = df.index.year\n",
    "    df['month'] = df.index.month\n",
    "    df['day'] = df.index.day\n",
    "    df['dayofweek'] = df.index.dayofweek\n",
    "    df['hour'] = df.index.hour\n",
    "    \n",
    "    for lag in range(1, max_lag +1):\n",
    "        df['lag_{}'.format(lag)] = df.iloc[:,0].shift(lag)\n",
    "        \n",
    "    df['rolling_mean'] = df.iloc[:,0].shift().rolling(rolling_mean_size).mean()"
   ]
  },
  {
   "cell_type": "code",
   "execution_count": 33,
   "metadata": {},
   "outputs": [],
   "source": [
    "# Criando características para treinamento\n",
    "make_features(df, 5, 5)"
   ]
  },
  {
   "cell_type": "code",
   "execution_count": 34,
   "metadata": {},
   "outputs": [],
   "source": [
    "# Apagando linhas com valore nulos\n",
    "df.dropna(inplace=True)"
   ]
  },
  {
   "cell_type": "code",
   "execution_count": 35,
   "metadata": {},
   "outputs": [
    {
     "data": {
      "text/html": [
       "<div>\n",
       "<style scoped>\n",
       "    .dataframe tbody tr th:only-of-type {\n",
       "        vertical-align: middle;\n",
       "    }\n",
       "\n",
       "    .dataframe tbody tr th {\n",
       "        vertical-align: top;\n",
       "    }\n",
       "\n",
       "    .dataframe thead th {\n",
       "        text-align: right;\n",
       "    }\n",
       "</style>\n",
       "<table border=\"1\" class=\"dataframe\">\n",
       "  <thead>\n",
       "    <tr style=\"text-align: right;\">\n",
       "      <th></th>\n",
       "      <th>num_orders</th>\n",
       "      <th>year</th>\n",
       "      <th>month</th>\n",
       "      <th>day</th>\n",
       "      <th>dayofweek</th>\n",
       "      <th>hour</th>\n",
       "      <th>lag_1</th>\n",
       "      <th>lag_2</th>\n",
       "      <th>lag_3</th>\n",
       "      <th>lag_4</th>\n",
       "      <th>lag_5</th>\n",
       "      <th>rolling_mean</th>\n",
       "    </tr>\n",
       "    <tr>\n",
       "      <th>datetime</th>\n",
       "      <th></th>\n",
       "      <th></th>\n",
       "      <th></th>\n",
       "      <th></th>\n",
       "      <th></th>\n",
       "      <th></th>\n",
       "      <th></th>\n",
       "      <th></th>\n",
       "      <th></th>\n",
       "      <th></th>\n",
       "      <th></th>\n",
       "      <th></th>\n",
       "    </tr>\n",
       "  </thead>\n",
       "  <tbody>\n",
       "    <tr>\n",
       "      <th>2018-03-01 05:00:00</th>\n",
       "      <td>6</td>\n",
       "      <td>2018</td>\n",
       "      <td>3</td>\n",
       "      <td>1</td>\n",
       "      <td>3</td>\n",
       "      <td>5</td>\n",
       "      <td>43.0</td>\n",
       "      <td>66.0</td>\n",
       "      <td>71.0</td>\n",
       "      <td>85.0</td>\n",
       "      <td>124.0</td>\n",
       "      <td>77.8</td>\n",
       "    </tr>\n",
       "    <tr>\n",
       "      <th>2018-03-01 06:00:00</th>\n",
       "      <td>12</td>\n",
       "      <td>2018</td>\n",
       "      <td>3</td>\n",
       "      <td>1</td>\n",
       "      <td>3</td>\n",
       "      <td>6</td>\n",
       "      <td>6.0</td>\n",
       "      <td>43.0</td>\n",
       "      <td>66.0</td>\n",
       "      <td>71.0</td>\n",
       "      <td>85.0</td>\n",
       "      <td>54.2</td>\n",
       "    </tr>\n",
       "    <tr>\n",
       "      <th>2018-03-01 07:00:00</th>\n",
       "      <td>15</td>\n",
       "      <td>2018</td>\n",
       "      <td>3</td>\n",
       "      <td>1</td>\n",
       "      <td>3</td>\n",
       "      <td>7</td>\n",
       "      <td>12.0</td>\n",
       "      <td>6.0</td>\n",
       "      <td>43.0</td>\n",
       "      <td>66.0</td>\n",
       "      <td>71.0</td>\n",
       "      <td>39.6</td>\n",
       "    </tr>\n",
       "    <tr>\n",
       "      <th>2018-03-01 08:00:00</th>\n",
       "      <td>34</td>\n",
       "      <td>2018</td>\n",
       "      <td>3</td>\n",
       "      <td>1</td>\n",
       "      <td>3</td>\n",
       "      <td>8</td>\n",
       "      <td>15.0</td>\n",
       "      <td>12.0</td>\n",
       "      <td>6.0</td>\n",
       "      <td>43.0</td>\n",
       "      <td>66.0</td>\n",
       "      <td>28.4</td>\n",
       "    </tr>\n",
       "    <tr>\n",
       "      <th>2018-03-01 09:00:00</th>\n",
       "      <td>69</td>\n",
       "      <td>2018</td>\n",
       "      <td>3</td>\n",
       "      <td>1</td>\n",
       "      <td>3</td>\n",
       "      <td>9</td>\n",
       "      <td>34.0</td>\n",
       "      <td>15.0</td>\n",
       "      <td>12.0</td>\n",
       "      <td>6.0</td>\n",
       "      <td>43.0</td>\n",
       "      <td>22.0</td>\n",
       "    </tr>\n",
       "    <tr>\n",
       "      <th>2018-03-01 10:00:00</th>\n",
       "      <td>64</td>\n",
       "      <td>2018</td>\n",
       "      <td>3</td>\n",
       "      <td>1</td>\n",
       "      <td>3</td>\n",
       "      <td>10</td>\n",
       "      <td>69.0</td>\n",
       "      <td>34.0</td>\n",
       "      <td>15.0</td>\n",
       "      <td>12.0</td>\n",
       "      <td>6.0</td>\n",
       "      <td>27.2</td>\n",
       "    </tr>\n",
       "    <tr>\n",
       "      <th>2018-03-01 11:00:00</th>\n",
       "      <td>96</td>\n",
       "      <td>2018</td>\n",
       "      <td>3</td>\n",
       "      <td>1</td>\n",
       "      <td>3</td>\n",
       "      <td>11</td>\n",
       "      <td>64.0</td>\n",
       "      <td>69.0</td>\n",
       "      <td>34.0</td>\n",
       "      <td>15.0</td>\n",
       "      <td>12.0</td>\n",
       "      <td>38.8</td>\n",
       "    </tr>\n",
       "    <tr>\n",
       "      <th>2018-03-01 12:00:00</th>\n",
       "      <td>30</td>\n",
       "      <td>2018</td>\n",
       "      <td>3</td>\n",
       "      <td>1</td>\n",
       "      <td>3</td>\n",
       "      <td>12</td>\n",
       "      <td>96.0</td>\n",
       "      <td>64.0</td>\n",
       "      <td>69.0</td>\n",
       "      <td>34.0</td>\n",
       "      <td>15.0</td>\n",
       "      <td>55.6</td>\n",
       "    </tr>\n",
       "    <tr>\n",
       "      <th>2018-03-01 13:00:00</th>\n",
       "      <td>32</td>\n",
       "      <td>2018</td>\n",
       "      <td>3</td>\n",
       "      <td>1</td>\n",
       "      <td>3</td>\n",
       "      <td>13</td>\n",
       "      <td>30.0</td>\n",
       "      <td>96.0</td>\n",
       "      <td>64.0</td>\n",
       "      <td>69.0</td>\n",
       "      <td>34.0</td>\n",
       "      <td>58.6</td>\n",
       "    </tr>\n",
       "    <tr>\n",
       "      <th>2018-03-01 14:00:00</th>\n",
       "      <td>48</td>\n",
       "      <td>2018</td>\n",
       "      <td>3</td>\n",
       "      <td>1</td>\n",
       "      <td>3</td>\n",
       "      <td>14</td>\n",
       "      <td>32.0</td>\n",
       "      <td>30.0</td>\n",
       "      <td>96.0</td>\n",
       "      <td>64.0</td>\n",
       "      <td>69.0</td>\n",
       "      <td>58.2</td>\n",
       "    </tr>\n",
       "  </tbody>\n",
       "</table>\n",
       "</div>"
      ],
      "text/plain": [
       "                     num_orders  year  month  day  dayofweek  hour  lag_1  \\\n",
       "datetime                                                                    \n",
       "2018-03-01 05:00:00           6  2018      3    1          3     5   43.0   \n",
       "2018-03-01 06:00:00          12  2018      3    1          3     6    6.0   \n",
       "2018-03-01 07:00:00          15  2018      3    1          3     7   12.0   \n",
       "2018-03-01 08:00:00          34  2018      3    1          3     8   15.0   \n",
       "2018-03-01 09:00:00          69  2018      3    1          3     9   34.0   \n",
       "2018-03-01 10:00:00          64  2018      3    1          3    10   69.0   \n",
       "2018-03-01 11:00:00          96  2018      3    1          3    11   64.0   \n",
       "2018-03-01 12:00:00          30  2018      3    1          3    12   96.0   \n",
       "2018-03-01 13:00:00          32  2018      3    1          3    13   30.0   \n",
       "2018-03-01 14:00:00          48  2018      3    1          3    14   32.0   \n",
       "\n",
       "                     lag_2  lag_3  lag_4  lag_5  rolling_mean  \n",
       "datetime                                                       \n",
       "2018-03-01 05:00:00   66.0   71.0   85.0  124.0          77.8  \n",
       "2018-03-01 06:00:00   43.0   66.0   71.0   85.0          54.2  \n",
       "2018-03-01 07:00:00    6.0   43.0   66.0   71.0          39.6  \n",
       "2018-03-01 08:00:00   12.0    6.0   43.0   66.0          28.4  \n",
       "2018-03-01 09:00:00   15.0   12.0    6.0   43.0          22.0  \n",
       "2018-03-01 10:00:00   34.0   15.0   12.0    6.0          27.2  \n",
       "2018-03-01 11:00:00   69.0   34.0   15.0   12.0          38.8  \n",
       "2018-03-01 12:00:00   64.0   69.0   34.0   15.0          55.6  \n",
       "2018-03-01 13:00:00   96.0   64.0   69.0   34.0          58.6  \n",
       "2018-03-01 14:00:00   30.0   96.0   64.0   69.0          58.2  "
      ]
     },
     "execution_count": 35,
     "metadata": {},
     "output_type": "execute_result"
    }
   ],
   "source": [
    "df.head(10)"
   ]
  },
  {
   "cell_type": "code",
   "execution_count": 36,
   "metadata": {},
   "outputs": [],
   "source": [
    "# Dividindo os conjuntos de treinamento de validação\n",
    "train, valid = train_test_split(df, shuffle=False, test_size=0.1)"
   ]
  },
  {
   "cell_type": "markdown",
   "metadata": {},
   "source": [
    "<s>\n",
    "    <div class=\"alert alert-block alert-danger\">\n",
    "<b> Comentário do revisor: </b> <a class=\"tocSkip\"></a>\n",
    "\n",
    "Oriento particioar o tain novamente em treino e validação (10% apenas)\n",
    "</div>\n",
    "."
   ]
  },
  {
   "cell_type": "code",
   "execution_count": 37,
   "metadata": {},
   "outputs": [],
   "source": [
    "# Dividindo os conjuntos de validação e teste\n",
    "valid, test = train_test_split(valid, shuffle=False, test_size=0.1)"
   ]
  },
  {
   "cell_type": "code",
   "execution_count": 38,
   "metadata": {},
   "outputs": [],
   "source": [
    "# Dividindo features de target\n",
    "train_features = train.drop(train.columns[0], axis=1)\n",
    "valid_features = valid.drop(valid.columns[0], axis=1)\n",
    "test_features = test.drop(test.columns[0], axis=1)\n",
    "\n",
    "train_target = train.iloc[:,0]\n",
    "valid_target = valid.iloc[:,0]\n",
    "test_target = test.iloc[:,0]"
   ]
  },
  {
   "cell_type": "code",
   "execution_count": 39,
   "metadata": {},
   "outputs": [
    {
     "data": {
      "text/html": [
       "<div>\n",
       "<style scoped>\n",
       "    .dataframe tbody tr th:only-of-type {\n",
       "        vertical-align: middle;\n",
       "    }\n",
       "\n",
       "    .dataframe tbody tr th {\n",
       "        vertical-align: top;\n",
       "    }\n",
       "\n",
       "    .dataframe thead th {\n",
       "        text-align: right;\n",
       "    }\n",
       "</style>\n",
       "<table border=\"1\" class=\"dataframe\">\n",
       "  <thead>\n",
       "    <tr style=\"text-align: right;\">\n",
       "      <th></th>\n",
       "      <th>year</th>\n",
       "      <th>month</th>\n",
       "      <th>day</th>\n",
       "      <th>dayofweek</th>\n",
       "      <th>hour</th>\n",
       "      <th>lag_1</th>\n",
       "      <th>lag_2</th>\n",
       "      <th>lag_3</th>\n",
       "      <th>lag_4</th>\n",
       "      <th>lag_5</th>\n",
       "      <th>rolling_mean</th>\n",
       "    </tr>\n",
       "    <tr>\n",
       "      <th>datetime</th>\n",
       "      <th></th>\n",
       "      <th></th>\n",
       "      <th></th>\n",
       "      <th></th>\n",
       "      <th></th>\n",
       "      <th></th>\n",
       "      <th></th>\n",
       "      <th></th>\n",
       "      <th></th>\n",
       "      <th></th>\n",
       "      <th></th>\n",
       "    </tr>\n",
       "  </thead>\n",
       "  <tbody>\n",
       "    <tr>\n",
       "      <th>2018-08-13 14:00:00</th>\n",
       "      <td>2018</td>\n",
       "      <td>8</td>\n",
       "      <td>13</td>\n",
       "      <td>0</td>\n",
       "      <td>14</td>\n",
       "      <td>119.0</td>\n",
       "      <td>92.0</td>\n",
       "      <td>144.0</td>\n",
       "      <td>156.0</td>\n",
       "      <td>137.0</td>\n",
       "      <td>129.6</td>\n",
       "    </tr>\n",
       "    <tr>\n",
       "      <th>2018-08-13 15:00:00</th>\n",
       "      <td>2018</td>\n",
       "      <td>8</td>\n",
       "      <td>13</td>\n",
       "      <td>0</td>\n",
       "      <td>15</td>\n",
       "      <td>102.0</td>\n",
       "      <td>119.0</td>\n",
       "      <td>92.0</td>\n",
       "      <td>144.0</td>\n",
       "      <td>156.0</td>\n",
       "      <td>122.6</td>\n",
       "    </tr>\n",
       "    <tr>\n",
       "      <th>2018-08-13 16:00:00</th>\n",
       "      <td>2018</td>\n",
       "      <td>8</td>\n",
       "      <td>13</td>\n",
       "      <td>0</td>\n",
       "      <td>16</td>\n",
       "      <td>175.0</td>\n",
       "      <td>102.0</td>\n",
       "      <td>119.0</td>\n",
       "      <td>92.0</td>\n",
       "      <td>144.0</td>\n",
       "      <td>126.4</td>\n",
       "    </tr>\n",
       "    <tr>\n",
       "      <th>2018-08-13 17:00:00</th>\n",
       "      <td>2018</td>\n",
       "      <td>8</td>\n",
       "      <td>13</td>\n",
       "      <td>0</td>\n",
       "      <td>17</td>\n",
       "      <td>144.0</td>\n",
       "      <td>175.0</td>\n",
       "      <td>102.0</td>\n",
       "      <td>119.0</td>\n",
       "      <td>92.0</td>\n",
       "      <td>126.4</td>\n",
       "    </tr>\n",
       "    <tr>\n",
       "      <th>2018-08-13 18:00:00</th>\n",
       "      <td>2018</td>\n",
       "      <td>8</td>\n",
       "      <td>13</td>\n",
       "      <td>0</td>\n",
       "      <td>18</td>\n",
       "      <td>152.0</td>\n",
       "      <td>144.0</td>\n",
       "      <td>175.0</td>\n",
       "      <td>102.0</td>\n",
       "      <td>119.0</td>\n",
       "      <td>138.4</td>\n",
       "    </tr>\n",
       "  </tbody>\n",
       "</table>\n",
       "</div>"
      ],
      "text/plain": [
       "                     year  month  day  dayofweek  hour  lag_1  lag_2  lag_3  \\\n",
       "datetime                                                                      \n",
       "2018-08-13 14:00:00  2018      8   13          0    14  119.0   92.0  144.0   \n",
       "2018-08-13 15:00:00  2018      8   13          0    15  102.0  119.0   92.0   \n",
       "2018-08-13 16:00:00  2018      8   13          0    16  175.0  102.0  119.0   \n",
       "2018-08-13 17:00:00  2018      8   13          0    17  144.0  175.0  102.0   \n",
       "2018-08-13 18:00:00  2018      8   13          0    18  152.0  144.0  175.0   \n",
       "\n",
       "                     lag_4  lag_5  rolling_mean  \n",
       "datetime                                         \n",
       "2018-08-13 14:00:00  156.0  137.0         129.6  \n",
       "2018-08-13 15:00:00  144.0  156.0         122.6  \n",
       "2018-08-13 16:00:00   92.0  144.0         126.4  \n",
       "2018-08-13 17:00:00  119.0   92.0         126.4  \n",
       "2018-08-13 18:00:00  102.0  119.0         138.4  "
      ]
     },
     "execution_count": 39,
     "metadata": {},
     "output_type": "execute_result"
    }
   ],
   "source": [
    "valid_features.head()"
   ]
  },
  {
   "cell_type": "code",
   "execution_count": 40,
   "metadata": {},
   "outputs": [
    {
     "data": {
      "text/plain": [
       "datetime\n",
       "2018-08-13 14:00:00    102\n",
       "2018-08-13 15:00:00    175\n",
       "2018-08-13 16:00:00    144\n",
       "2018-08-13 17:00:00    152\n",
       "2018-08-13 18:00:00    104\n",
       "Freq: H, Name: num_orders, dtype: int64"
      ]
     },
     "execution_count": 40,
     "metadata": {},
     "output_type": "execute_result"
    }
   ],
   "source": [
    "valid_target.head()"
   ]
  },
  {
   "cell_type": "markdown",
   "metadata": {},
   "source": [
    "Foram criadas features que podem dar maiores pistas ao modelo sobre o *momento* do dia, mês e ano estudado, são elas:\n",
    "- `year`: Ano,\n",
    "- `month`: Mês;\n",
    "- `day` : Dia do mês;\n",
    "- `dayofweek` : Dia da semana;\n",
    "- `hour` : Horário;\n",
    "\n",
    "Também foram criadas 5 *características de defasagem*: `lag_1`, `lag_2`, `lag_3`, `lag_4` e `lag_5` e uma característica de *Média Móvel* `rolling_mean`."
   ]
  },
  {
   "cell_type": "markdown",
   "metadata": {},
   "source": [
    "### Modelo 0: Modelo Dummy\n",
    "\n",
    "Primeiro será feito um 'modelo' *dummy* para tirar Prova Real da eficácia dos outros modelos, este modelo prevê todos os valores com o valor anterior do conjunto de dados."
   ]
  },
  {
   "cell_type": "code",
   "execution_count": 41,
   "metadata": {},
   "outputs": [
    {
     "name": "stdout",
     "output_type": "stream",
     "text": [
      "Tempo de treinamento/predição do modelo Dummy: 0.00042 segundos.\n"
     ]
    }
   ],
   "source": [
    "start_time = time.time()\n",
    "\n",
    "# Criando previsões para um modelo dummy\n",
    "dummy_preds = test_target.shift()\n",
    "dummy_preds.iloc[0] = valid_target.iloc[-1]\n",
    "\n",
    "end_time = time.time()\n",
    "training_time = end_time - start_time\n",
    "print(f'Tempo de treinamento/predição do modelo Dummy: {training_time:.5f} segundos.')"
   ]
  },
  {
   "cell_type": "markdown",
   "metadata": {},
   "source": [
    "### Modelo 1: Regressão Linear\n",
    "\n",
    "O primeiro modelo a ser oficialmente treinado será uma Regressão Linear simples:"
   ]
  },
  {
   "cell_type": "code",
   "execution_count": 42,
   "metadata": {},
   "outputs": [
    {
     "name": "stdout",
     "output_type": "stream",
     "text": [
      "Tempo de treinamento do modelo de Regressão Linear: 0.00436 segundos.\n"
     ]
    }
   ],
   "source": [
    "start_time = time.time()\n",
    "\n",
    "# Treinando modelo de Regressão Linear\n",
    "linear_regression_model = LinearRegression()\n",
    "linear_regression_model.fit(train_features, train_target)\n",
    "\n",
    "end_time = time.time()\n",
    "training_time = end_time - start_time\n",
    "print(f'Tempo de treinamento do modelo de Regressão Linear: {training_time:.5f} segundos.')"
   ]
  },
  {
   "cell_type": "code",
   "execution_count": 43,
   "metadata": {},
   "outputs": [
    {
     "name": "stdout",
     "output_type": "stream",
     "text": [
      "Tempo de predição do modelo de Regressão Linear: 0.00171 segundos.\n"
     ]
    }
   ],
   "source": [
    "start_time = time.time()\n",
    "\n",
    "# Criando variável com predições de teste\n",
    "linear_regression_preds = linear_regression_model.predict(test_features)\n",
    "\n",
    "end_time = time.time()\n",
    "prediction_time = end_time - start_time\n",
    "print(f'Tempo de predição do modelo de Regressão Linear: {prediction_time:.5f} segundos.')"
   ]
  },
  {
   "cell_type": "markdown",
   "metadata": {},
   "source": [
    "### Modelo 2: Gradient Boosting\n",
    "\n",
    "O segundo modelo a ser treinado será um Gradient Boosting, utilizarei o *CatBoostRegressor* por conta de suas métricas, rapidez de treinamento e facilidade de configuração de hiperparâmetros."
   ]
  },
  {
   "cell_type": "code",
   "execution_count": 44,
   "metadata": {},
   "outputs": [],
   "source": [
    "# Inicializando Pool\n",
    "train_pool = Pool(train_features, train_target)\n",
    "valid_pool = Pool(valid_features)\n",
    "test_pool = Pool(test_features)"
   ]
  },
  {
   "cell_type": "code",
   "execution_count": 45,
   "metadata": {},
   "outputs": [
    {
     "name": "stdout",
     "output_type": "stream",
     "text": [
      "depth=4, iters=500, rate=0.1, policy=SymmetricTree, fold_block=1, method=Newton\n",
      "depth=4, iters=500, rate=0.1, policy=SymmetricTree, fold_block=1, method=Gradient\n",
      "depth=4, iters=500, rate=0.1, policy=SymmetricTree, fold_block=11, method=Newton\n",
      "depth=4, iters=500, rate=0.1, policy=SymmetricTree, fold_block=11, method=Gradient\n",
      "depth=4, iters=500, rate=0.1, policy=Depthwise, fold_block=1, method=Newton\n",
      "depth=4, iters=500, rate=0.1, policy=Depthwise, fold_block=1, method=Gradient\n",
      "depth=4, iters=500, rate=0.1, policy=Depthwise, fold_block=11, method=Newton\n",
      "depth=4, iters=500, rate=0.1, policy=Depthwise, fold_block=11, method=Gradient\n",
      "depth=4, iters=500, rate=0.1, policy=Lossguide, fold_block=1, method=Newton\n",
      "depth=4, iters=500, rate=0.1, policy=Lossguide, fold_block=1, method=Gradient\n",
      "depth=4, iters=500, rate=0.1, policy=Lossguide, fold_block=11, method=Newton\n",
      "depth=4, iters=500, rate=0.1, policy=Lossguide, fold_block=11, method=Gradient\n",
      "depth=4, iters=500, rate=1, policy=SymmetricTree, fold_block=1, method=Newton\n",
      "depth=4, iters=500, rate=1, policy=SymmetricTree, fold_block=1, method=Gradient\n",
      "depth=4, iters=500, rate=1, policy=SymmetricTree, fold_block=11, method=Newton\n",
      "depth=4, iters=500, rate=1, policy=SymmetricTree, fold_block=11, method=Gradient\n",
      "depth=4, iters=500, rate=1, policy=Depthwise, fold_block=1, method=Newton\n",
      "depth=4, iters=500, rate=1, policy=Depthwise, fold_block=1, method=Gradient\n",
      "depth=4, iters=500, rate=1, policy=Depthwise, fold_block=11, method=Newton\n",
      "depth=4, iters=500, rate=1, policy=Depthwise, fold_block=11, method=Gradient\n",
      "depth=4, iters=500, rate=1, policy=Lossguide, fold_block=1, method=Newton\n",
      "depth=4, iters=500, rate=1, policy=Lossguide, fold_block=1, method=Gradient\n",
      "depth=4, iters=500, rate=1, policy=Lossguide, fold_block=11, method=Newton\n",
      "depth=4, iters=500, rate=1, policy=Lossguide, fold_block=11, method=Gradient\n",
      "depth=4, iters=1000, rate=0.1, policy=SymmetricTree, fold_block=1, method=Newton\n",
      "depth=4, iters=1000, rate=0.1, policy=SymmetricTree, fold_block=1, method=Gradient\n",
      "depth=4, iters=1000, rate=0.1, policy=SymmetricTree, fold_block=11, method=Newton\n",
      "depth=4, iters=1000, rate=0.1, policy=SymmetricTree, fold_block=11, method=Gradient\n",
      "depth=4, iters=1000, rate=0.1, policy=Depthwise, fold_block=1, method=Newton\n",
      "depth=4, iters=1000, rate=0.1, policy=Depthwise, fold_block=1, method=Gradient\n",
      "depth=4, iters=1000, rate=0.1, policy=Depthwise, fold_block=11, method=Newton\n",
      "depth=4, iters=1000, rate=0.1, policy=Depthwise, fold_block=11, method=Gradient\n",
      "depth=4, iters=1000, rate=0.1, policy=Lossguide, fold_block=1, method=Newton\n",
      "depth=4, iters=1000, rate=0.1, policy=Lossguide, fold_block=1, method=Gradient\n",
      "depth=4, iters=1000, rate=0.1, policy=Lossguide, fold_block=11, method=Newton\n",
      "depth=4, iters=1000, rate=0.1, policy=Lossguide, fold_block=11, method=Gradient\n",
      "depth=4, iters=1000, rate=1, policy=SymmetricTree, fold_block=1, method=Newton\n",
      "depth=4, iters=1000, rate=1, policy=SymmetricTree, fold_block=1, method=Gradient\n",
      "depth=4, iters=1000, rate=1, policy=SymmetricTree, fold_block=11, method=Newton\n",
      "depth=4, iters=1000, rate=1, policy=SymmetricTree, fold_block=11, method=Gradient\n",
      "depth=4, iters=1000, rate=1, policy=Depthwise, fold_block=1, method=Newton\n",
      "depth=4, iters=1000, rate=1, policy=Depthwise, fold_block=1, method=Gradient\n",
      "depth=4, iters=1000, rate=1, policy=Depthwise, fold_block=11, method=Newton\n",
      "depth=4, iters=1000, rate=1, policy=Depthwise, fold_block=11, method=Gradient\n",
      "depth=4, iters=1000, rate=1, policy=Lossguide, fold_block=1, method=Newton\n",
      "depth=4, iters=1000, rate=1, policy=Lossguide, fold_block=1, method=Gradient\n",
      "depth=4, iters=1000, rate=1, policy=Lossguide, fold_block=11, method=Newton\n",
      "depth=4, iters=1000, rate=1, policy=Lossguide, fold_block=11, method=Gradient\n",
      "depth=6, iters=500, rate=0.1, policy=SymmetricTree, fold_block=1, method=Newton\n",
      "depth=6, iters=500, rate=0.1, policy=SymmetricTree, fold_block=1, method=Gradient\n",
      "depth=6, iters=500, rate=0.1, policy=SymmetricTree, fold_block=11, method=Newton\n",
      "depth=6, iters=500, rate=0.1, policy=SymmetricTree, fold_block=11, method=Gradient\n",
      "depth=6, iters=500, rate=0.1, policy=Depthwise, fold_block=1, method=Newton\n",
      "depth=6, iters=500, rate=0.1, policy=Depthwise, fold_block=1, method=Gradient\n",
      "depth=6, iters=500, rate=0.1, policy=Depthwise, fold_block=11, method=Newton\n",
      "depth=6, iters=500, rate=0.1, policy=Depthwise, fold_block=11, method=Gradient\n",
      "depth=6, iters=500, rate=0.1, policy=Lossguide, fold_block=1, method=Newton\n",
      "depth=6, iters=500, rate=0.1, policy=Lossguide, fold_block=1, method=Gradient\n",
      "depth=6, iters=500, rate=0.1, policy=Lossguide, fold_block=11, method=Newton\n",
      "depth=6, iters=500, rate=0.1, policy=Lossguide, fold_block=11, method=Gradient\n",
      "depth=6, iters=500, rate=1, policy=SymmetricTree, fold_block=1, method=Newton\n",
      "depth=6, iters=500, rate=1, policy=SymmetricTree, fold_block=1, method=Gradient\n",
      "depth=6, iters=500, rate=1, policy=SymmetricTree, fold_block=11, method=Newton\n",
      "depth=6, iters=500, rate=1, policy=SymmetricTree, fold_block=11, method=Gradient\n",
      "depth=6, iters=500, rate=1, policy=Depthwise, fold_block=1, method=Newton\n",
      "depth=6, iters=500, rate=1, policy=Depthwise, fold_block=1, method=Gradient\n",
      "depth=6, iters=500, rate=1, policy=Depthwise, fold_block=11, method=Newton\n",
      "depth=6, iters=500, rate=1, policy=Depthwise, fold_block=11, method=Gradient\n",
      "depth=6, iters=500, rate=1, policy=Lossguide, fold_block=1, method=Newton\n",
      "depth=6, iters=500, rate=1, policy=Lossguide, fold_block=1, method=Gradient\n",
      "depth=6, iters=500, rate=1, policy=Lossguide, fold_block=11, method=Newton\n",
      "depth=6, iters=500, rate=1, policy=Lossguide, fold_block=11, method=Gradient\n",
      "depth=6, iters=1000, rate=0.1, policy=SymmetricTree, fold_block=1, method=Newton\n",
      "depth=6, iters=1000, rate=0.1, policy=SymmetricTree, fold_block=1, method=Gradient\n",
      "depth=6, iters=1000, rate=0.1, policy=SymmetricTree, fold_block=11, method=Newton\n",
      "depth=6, iters=1000, rate=0.1, policy=SymmetricTree, fold_block=11, method=Gradient\n",
      "depth=6, iters=1000, rate=0.1, policy=Depthwise, fold_block=1, method=Newton\n",
      "depth=6, iters=1000, rate=0.1, policy=Depthwise, fold_block=1, method=Gradient\n",
      "depth=6, iters=1000, rate=0.1, policy=Depthwise, fold_block=11, method=Newton\n",
      "depth=6, iters=1000, rate=0.1, policy=Depthwise, fold_block=11, method=Gradient\n",
      "depth=6, iters=1000, rate=0.1, policy=Lossguide, fold_block=1, method=Newton\n",
      "depth=6, iters=1000, rate=0.1, policy=Lossguide, fold_block=1, method=Gradient\n",
      "depth=6, iters=1000, rate=0.1, policy=Lossguide, fold_block=11, method=Newton\n",
      "depth=6, iters=1000, rate=0.1, policy=Lossguide, fold_block=11, method=Gradient\n",
      "depth=6, iters=1000, rate=1, policy=SymmetricTree, fold_block=1, method=Newton\n",
      "depth=6, iters=1000, rate=1, policy=SymmetricTree, fold_block=1, method=Gradient\n",
      "depth=6, iters=1000, rate=1, policy=SymmetricTree, fold_block=11, method=Newton\n",
      "depth=6, iters=1000, rate=1, policy=SymmetricTree, fold_block=11, method=Gradient\n",
      "depth=6, iters=1000, rate=1, policy=Depthwise, fold_block=1, method=Newton\n",
      "depth=6, iters=1000, rate=1, policy=Depthwise, fold_block=1, method=Gradient\n",
      "depth=6, iters=1000, rate=1, policy=Depthwise, fold_block=11, method=Newton\n",
      "depth=6, iters=1000, rate=1, policy=Depthwise, fold_block=11, method=Gradient\n",
      "depth=6, iters=1000, rate=1, policy=Lossguide, fold_block=1, method=Newton\n",
      "depth=6, iters=1000, rate=1, policy=Lossguide, fold_block=1, method=Gradient\n",
      "depth=6, iters=1000, rate=1, policy=Lossguide, fold_block=11, method=Newton\n",
      "depth=6, iters=1000, rate=1, policy=Lossguide, fold_block=11, method=Gradient\n",
      "REQM (rmse) do melhor modelo de Gradient Boosting: 42.4944.\n",
      "Hiperparâmetros:\n",
      "- Iterations = 1000,\n",
      "- Depth = 6\n",
      "- Learning rate = 0.1\n",
      "- Grow policy = Depthwise\n",
      "- Fold permutation block = 1\n",
      "- Leaf estimation method = Gradient\n"
     ]
    }
   ],
   "source": [
    "# Encontrando o melhor modelo de Gradient Boosting\n",
    "best_rmse = 1000000\n",
    "best_depth = 0\n",
    "best_iters = 0\n",
    "best_rate = 0.0001\n",
    "best_policy = 'string'\n",
    "best_fold_block = 1000\n",
    "best_method = 'string'\n",
    "best_leaf_iters = 0\n",
    "\n",
    "rates = [0.1, 1]\n",
    "\n",
    "for depth in range(4, 7, 2):\n",
    "    for iters in range(500, 1001, 500):\n",
    "        for rate in rates:\n",
    "            for policy in ['SymmetricTree', 'Depthwise', 'Lossguide']:\n",
    "                for fold_block in range(1, 12, 10):\n",
    "                    for method in ['Newton', 'Gradient']:\n",
    "                        print(f'depth={depth}, iters={iters}, rate={rate}, policy={policy}, fold_block={fold_block}, method={method}')\n",
    "                        model = CatBoostRegressor(\n",
    "                            iterations=iters,\n",
    "                            depth=depth,\n",
    "                            learning_rate=rate,\n",
    "                            loss_function='RMSE',\n",
    "                            random_seed=12345,\n",
    "                            has_time=True,\n",
    "                            verbose=False,\n",
    "                            grow_policy=policy,\n",
    "                            fold_permutation_block=fold_block,\n",
    "                            leaf_estimation_method=method\n",
    "                        )\n",
    "                        model.fit(train_pool)\n",
    "                        preds = model.predict(valid_pool)\n",
    "\n",
    "                        rmse = root_mean_squared_error(valid_target, preds)\n",
    "\n",
    "                        if rmse < best_rmse:\n",
    "                            best_rmse = rmse\n",
    "                            best_depth = depth\n",
    "                            best_iters = iters\n",
    "                            best_rate = rate\n",
    "                            best_policy = policy\n",
    "                            best_fold_block = fold_block\n",
    "                            best_method = method\n",
    "            \n",
    "print(f'REQM (rmse) do melhor modelo de Gradient Boosting: {rmse:.4f}.')\n",
    "print(f'Hiperparâmetros:')\n",
    "print(f'- Iterations = {best_iters},')\n",
    "print(f'- Depth = {best_depth}')\n",
    "print(f'- Learning rate = {best_rate}')\n",
    "print(f'- Grow policy = {best_policy}')\n",
    "print(f'- Fold permutation block = {best_fold_block}')\n",
    "print(f'- Leaf estimation method = {best_method}')"
   ]
  },
  {
   "cell_type": "markdown",
   "metadata": {},
   "source": [
    "<s>\n",
    "    <div class=\"alert alert-block alert-danger\">\n",
    "<b> Comentário do revisor: </b> <a class=\"tocSkip\"></a>\n",
    "\n",
    "Precisa usar conjunto de validação em vez de teste\n",
    "</div>\n",
    "."
   ]
  },
  {
   "cell_type": "code",
   "execution_count": 46,
   "metadata": {},
   "outputs": [
    {
     "name": "stdout",
     "output_type": "stream",
     "text": [
      "Tempo de treinamento do modelo de Gradient Boosting: 3.98551 segundos.\n"
     ]
    }
   ],
   "source": [
    "start_time = time.time()\n",
    "\n",
    "# Treinando modelo com os melhores hiperparâmetros\n",
    "grad_boost_model = CatBoostRegressor(\n",
    "            iterations=1000,\n",
    "            depth=6,\n",
    "            learning_rate=0.1,\n",
    "            loss_function='RMSE',\n",
    "            random_seed=12345,\n",
    "            has_time=True,\n",
    "            verbose=False,\n",
    "            grow_policy='Depthwise',\n",
    "            fold_permutation_block=1,\n",
    "            leaf_estimation_method='Gradient',\n",
    "        )\n",
    "grad_boost_model.fit(train_pool)\n",
    "\n",
    "end_time = time.time()\n",
    "training_time = end_time - start_time\n",
    "print(f'Tempo de treinamento do modelo de Gradient Boosting: {training_time:.5f} segundos.')"
   ]
  },
  {
   "cell_type": "code",
   "execution_count": 47,
   "metadata": {},
   "outputs": [
    {
     "data": {
      "text/plain": [
       "{'learn': {'RMSE': 4.784044062437515}}"
      ]
     },
     "execution_count": 47,
     "metadata": {},
     "output_type": "execute_result"
    }
   ],
   "source": [
    "grad_boost_model.best_score_"
   ]
  },
  {
   "cell_type": "code",
   "execution_count": 48,
   "metadata": {},
   "outputs": [
    {
     "name": "stdout",
     "output_type": "stream",
     "text": [
      "Tempo de predição do modelo de Gradient Boosting: 0.00146 segundos.\n"
     ]
    }
   ],
   "source": [
    "start_time = time.time()\n",
    "\n",
    "# Criando variável com predições de teste\n",
    "grad_boost_preds = grad_boost_model.predict(test_pool)\n",
    "\n",
    "end_time = time.time()\n",
    "prediction_time = end_time - start_time\n",
    "print(f'Tempo de predição do modelo de Gradient Boosting: {prediction_time:.5f} segundos.')"
   ]
  },
  {
   "cell_type": "markdown",
   "metadata": {},
   "source": [
    "### Modelo 3: K Nearest Neighbors\n",
    "\n",
    "O terceiro modelo a ser treinado será um *K Nearest Neighbors Regressor*:"
   ]
  },
  {
   "cell_type": "code",
   "execution_count": 49,
   "metadata": {},
   "outputs": [
    {
     "name": "stdout",
     "output_type": "stream",
     "text": [
      "k = 1, metric = cityblock, weights = uniform, leaf_size = 1\n",
      "k = 1, metric = cityblock, weights = uniform, leaf_size = 31\n",
      "k = 1, metric = cityblock, weights = uniform, leaf_size = 61\n",
      "k = 1, metric = cityblock, weights = distance, leaf_size = 1\n",
      "k = 1, metric = cityblock, weights = distance, leaf_size = 31\n",
      "k = 1, metric = cityblock, weights = distance, leaf_size = 61\n",
      "k = 1, metric = cosine, weights = uniform, leaf_size = 1\n",
      "k = 1, metric = cosine, weights = uniform, leaf_size = 31\n",
      "k = 1, metric = cosine, weights = uniform, leaf_size = 61\n",
      "k = 1, metric = cosine, weights = distance, leaf_size = 1\n",
      "k = 1, metric = cosine, weights = distance, leaf_size = 31\n",
      "k = 1, metric = cosine, weights = distance, leaf_size = 61\n",
      "k = 1, metric = euclidean, weights = uniform, leaf_size = 1\n",
      "k = 1, metric = euclidean, weights = uniform, leaf_size = 31\n",
      "k = 1, metric = euclidean, weights = uniform, leaf_size = 61\n",
      "k = 1, metric = euclidean, weights = distance, leaf_size = 1\n",
      "k = 1, metric = euclidean, weights = distance, leaf_size = 31\n",
      "k = 1, metric = euclidean, weights = distance, leaf_size = 61\n",
      "k = 2, metric = cityblock, weights = uniform, leaf_size = 1\n",
      "k = 2, metric = cityblock, weights = uniform, leaf_size = 31\n",
      "k = 2, metric = cityblock, weights = uniform, leaf_size = 61\n",
      "k = 2, metric = cityblock, weights = distance, leaf_size = 1\n",
      "k = 2, metric = cityblock, weights = distance, leaf_size = 31\n",
      "k = 2, metric = cityblock, weights = distance, leaf_size = 61\n",
      "k = 2, metric = cosine, weights = uniform, leaf_size = 1\n",
      "k = 2, metric = cosine, weights = uniform, leaf_size = 31\n",
      "k = 2, metric = cosine, weights = uniform, leaf_size = 61\n",
      "k = 2, metric = cosine, weights = distance, leaf_size = 1\n",
      "k = 2, metric = cosine, weights = distance, leaf_size = 31\n",
      "k = 2, metric = cosine, weights = distance, leaf_size = 61\n",
      "k = 2, metric = euclidean, weights = uniform, leaf_size = 1\n",
      "k = 2, metric = euclidean, weights = uniform, leaf_size = 31\n",
      "k = 2, metric = euclidean, weights = uniform, leaf_size = 61\n",
      "k = 2, metric = euclidean, weights = distance, leaf_size = 1\n",
      "k = 2, metric = euclidean, weights = distance, leaf_size = 31\n",
      "k = 2, metric = euclidean, weights = distance, leaf_size = 61\n",
      "k = 3, metric = cityblock, weights = uniform, leaf_size = 1\n",
      "k = 3, metric = cityblock, weights = uniform, leaf_size = 31\n",
      "k = 3, metric = cityblock, weights = uniform, leaf_size = 61\n",
      "k = 3, metric = cityblock, weights = distance, leaf_size = 1\n",
      "k = 3, metric = cityblock, weights = distance, leaf_size = 31\n",
      "k = 3, metric = cityblock, weights = distance, leaf_size = 61\n",
      "k = 3, metric = cosine, weights = uniform, leaf_size = 1\n",
      "k = 3, metric = cosine, weights = uniform, leaf_size = 31\n",
      "k = 3, metric = cosine, weights = uniform, leaf_size = 61\n",
      "k = 3, metric = cosine, weights = distance, leaf_size = 1\n",
      "k = 3, metric = cosine, weights = distance, leaf_size = 31\n",
      "k = 3, metric = cosine, weights = distance, leaf_size = 61\n",
      "k = 3, metric = euclidean, weights = uniform, leaf_size = 1\n",
      "k = 3, metric = euclidean, weights = uniform, leaf_size = 31\n",
      "k = 3, metric = euclidean, weights = uniform, leaf_size = 61\n",
      "k = 3, metric = euclidean, weights = distance, leaf_size = 1\n",
      "k = 3, metric = euclidean, weights = distance, leaf_size = 31\n",
      "k = 3, metric = euclidean, weights = distance, leaf_size = 61\n",
      "k = 4, metric = cityblock, weights = uniform, leaf_size = 1\n",
      "k = 4, metric = cityblock, weights = uniform, leaf_size = 31\n",
      "k = 4, metric = cityblock, weights = uniform, leaf_size = 61\n",
      "k = 4, metric = cityblock, weights = distance, leaf_size = 1\n",
      "k = 4, metric = cityblock, weights = distance, leaf_size = 31\n",
      "k = 4, metric = cityblock, weights = distance, leaf_size = 61\n",
      "k = 4, metric = cosine, weights = uniform, leaf_size = 1\n",
      "k = 4, metric = cosine, weights = uniform, leaf_size = 31\n",
      "k = 4, metric = cosine, weights = uniform, leaf_size = 61\n",
      "k = 4, metric = cosine, weights = distance, leaf_size = 1\n",
      "k = 4, metric = cosine, weights = distance, leaf_size = 31\n",
      "k = 4, metric = cosine, weights = distance, leaf_size = 61\n",
      "k = 4, metric = euclidean, weights = uniform, leaf_size = 1\n",
      "k = 4, metric = euclidean, weights = uniform, leaf_size = 31\n",
      "k = 4, metric = euclidean, weights = uniform, leaf_size = 61\n",
      "k = 4, metric = euclidean, weights = distance, leaf_size = 1\n",
      "k = 4, metric = euclidean, weights = distance, leaf_size = 31\n",
      "k = 4, metric = euclidean, weights = distance, leaf_size = 61\n",
      "k = 5, metric = cityblock, weights = uniform, leaf_size = 1\n",
      "k = 5, metric = cityblock, weights = uniform, leaf_size = 31\n",
      "k = 5, metric = cityblock, weights = uniform, leaf_size = 61\n",
      "k = 5, metric = cityblock, weights = distance, leaf_size = 1\n",
      "k = 5, metric = cityblock, weights = distance, leaf_size = 31\n",
      "k = 5, metric = cityblock, weights = distance, leaf_size = 61\n",
      "k = 5, metric = cosine, weights = uniform, leaf_size = 1\n",
      "k = 5, metric = cosine, weights = uniform, leaf_size = 31\n",
      "k = 5, metric = cosine, weights = uniform, leaf_size = 61\n",
      "k = 5, metric = cosine, weights = distance, leaf_size = 1\n",
      "k = 5, metric = cosine, weights = distance, leaf_size = 31\n",
      "k = 5, metric = cosine, weights = distance, leaf_size = 61\n",
      "k = 5, metric = euclidean, weights = uniform, leaf_size = 1\n",
      "k = 5, metric = euclidean, weights = uniform, leaf_size = 31\n",
      "k = 5, metric = euclidean, weights = uniform, leaf_size = 61\n",
      "k = 5, metric = euclidean, weights = distance, leaf_size = 1\n",
      "k = 5, metric = euclidean, weights = distance, leaf_size = 31\n",
      "k = 5, metric = euclidean, weights = distance, leaf_size = 61\n",
      "k = 6, metric = cityblock, weights = uniform, leaf_size = 1\n",
      "k = 6, metric = cityblock, weights = uniform, leaf_size = 31\n",
      "k = 6, metric = cityblock, weights = uniform, leaf_size = 61\n",
      "k = 6, metric = cityblock, weights = distance, leaf_size = 1\n",
      "k = 6, metric = cityblock, weights = distance, leaf_size = 31\n",
      "k = 6, metric = cityblock, weights = distance, leaf_size = 61\n",
      "k = 6, metric = cosine, weights = uniform, leaf_size = 1\n",
      "k = 6, metric = cosine, weights = uniform, leaf_size = 31\n",
      "k = 6, metric = cosine, weights = uniform, leaf_size = 61\n",
      "k = 6, metric = cosine, weights = distance, leaf_size = 1\n",
      "k = 6, metric = cosine, weights = distance, leaf_size = 31\n",
      "k = 6, metric = cosine, weights = distance, leaf_size = 61\n",
      "k = 6, metric = euclidean, weights = uniform, leaf_size = 1\n",
      "k = 6, metric = euclidean, weights = uniform, leaf_size = 31\n",
      "k = 6, metric = euclidean, weights = uniform, leaf_size = 61\n",
      "k = 6, metric = euclidean, weights = distance, leaf_size = 1\n",
      "k = 6, metric = euclidean, weights = distance, leaf_size = 31\n",
      "k = 6, metric = euclidean, weights = distance, leaf_size = 61\n",
      "k = 7, metric = cityblock, weights = uniform, leaf_size = 1\n",
      "k = 7, metric = cityblock, weights = uniform, leaf_size = 31\n",
      "k = 7, metric = cityblock, weights = uniform, leaf_size = 61\n",
      "k = 7, metric = cityblock, weights = distance, leaf_size = 1\n",
      "k = 7, metric = cityblock, weights = distance, leaf_size = 31\n",
      "k = 7, metric = cityblock, weights = distance, leaf_size = 61\n",
      "k = 7, metric = cosine, weights = uniform, leaf_size = 1\n",
      "k = 7, metric = cosine, weights = uniform, leaf_size = 31\n",
      "k = 7, metric = cosine, weights = uniform, leaf_size = 61\n",
      "k = 7, metric = cosine, weights = distance, leaf_size = 1\n",
      "k = 7, metric = cosine, weights = distance, leaf_size = 31\n",
      "k = 7, metric = cosine, weights = distance, leaf_size = 61\n",
      "k = 7, metric = euclidean, weights = uniform, leaf_size = 1\n",
      "k = 7, metric = euclidean, weights = uniform, leaf_size = 31\n",
      "k = 7, metric = euclidean, weights = uniform, leaf_size = 61\n",
      "k = 7, metric = euclidean, weights = distance, leaf_size = 1\n",
      "k = 7, metric = euclidean, weights = distance, leaf_size = 31\n",
      "k = 7, metric = euclidean, weights = distance, leaf_size = 61\n",
      "k = 8, metric = cityblock, weights = uniform, leaf_size = 1\n",
      "k = 8, metric = cityblock, weights = uniform, leaf_size = 31\n",
      "k = 8, metric = cityblock, weights = uniform, leaf_size = 61\n",
      "k = 8, metric = cityblock, weights = distance, leaf_size = 1\n",
      "k = 8, metric = cityblock, weights = distance, leaf_size = 31\n",
      "k = 8, metric = cityblock, weights = distance, leaf_size = 61\n",
      "k = 8, metric = cosine, weights = uniform, leaf_size = 1\n",
      "k = 8, metric = cosine, weights = uniform, leaf_size = 31\n",
      "k = 8, metric = cosine, weights = uniform, leaf_size = 61\n",
      "k = 8, metric = cosine, weights = distance, leaf_size = 1\n",
      "k = 8, metric = cosine, weights = distance, leaf_size = 31\n"
     ]
    },
    {
     "name": "stdout",
     "output_type": "stream",
     "text": [
      "k = 8, metric = cosine, weights = distance, leaf_size = 61\n",
      "k = 8, metric = euclidean, weights = uniform, leaf_size = 1\n",
      "k = 8, metric = euclidean, weights = uniform, leaf_size = 31\n",
      "k = 8, metric = euclidean, weights = uniform, leaf_size = 61\n",
      "k = 8, metric = euclidean, weights = distance, leaf_size = 1\n",
      "k = 8, metric = euclidean, weights = distance, leaf_size = 31\n",
      "k = 8, metric = euclidean, weights = distance, leaf_size = 61\n",
      "k = 9, metric = cityblock, weights = uniform, leaf_size = 1\n",
      "k = 9, metric = cityblock, weights = uniform, leaf_size = 31\n",
      "k = 9, metric = cityblock, weights = uniform, leaf_size = 61\n",
      "k = 9, metric = cityblock, weights = distance, leaf_size = 1\n",
      "k = 9, metric = cityblock, weights = distance, leaf_size = 31\n",
      "k = 9, metric = cityblock, weights = distance, leaf_size = 61\n",
      "k = 9, metric = cosine, weights = uniform, leaf_size = 1\n",
      "k = 9, metric = cosine, weights = uniform, leaf_size = 31\n",
      "k = 9, metric = cosine, weights = uniform, leaf_size = 61\n",
      "k = 9, metric = cosine, weights = distance, leaf_size = 1\n",
      "k = 9, metric = cosine, weights = distance, leaf_size = 31\n",
      "k = 9, metric = cosine, weights = distance, leaf_size = 61\n",
      "k = 9, metric = euclidean, weights = uniform, leaf_size = 1\n",
      "k = 9, metric = euclidean, weights = uniform, leaf_size = 31\n",
      "k = 9, metric = euclidean, weights = uniform, leaf_size = 61\n",
      "k = 9, metric = euclidean, weights = distance, leaf_size = 1\n",
      "k = 9, metric = euclidean, weights = distance, leaf_size = 31\n",
      "k = 9, metric = euclidean, weights = distance, leaf_size = 61\n",
      "k = 10, metric = cityblock, weights = uniform, leaf_size = 1\n",
      "k = 10, metric = cityblock, weights = uniform, leaf_size = 31\n",
      "k = 10, metric = cityblock, weights = uniform, leaf_size = 61\n",
      "k = 10, metric = cityblock, weights = distance, leaf_size = 1\n",
      "k = 10, metric = cityblock, weights = distance, leaf_size = 31\n",
      "k = 10, metric = cityblock, weights = distance, leaf_size = 61\n",
      "k = 10, metric = cosine, weights = uniform, leaf_size = 1\n",
      "k = 10, metric = cosine, weights = uniform, leaf_size = 31\n",
      "k = 10, metric = cosine, weights = uniform, leaf_size = 61\n",
      "k = 10, metric = cosine, weights = distance, leaf_size = 1\n",
      "k = 10, metric = cosine, weights = distance, leaf_size = 31\n",
      "k = 10, metric = cosine, weights = distance, leaf_size = 61\n",
      "k = 10, metric = euclidean, weights = uniform, leaf_size = 1\n",
      "k = 10, metric = euclidean, weights = uniform, leaf_size = 31\n",
      "k = 10, metric = euclidean, weights = uniform, leaf_size = 61\n",
      "k = 10, metric = euclidean, weights = distance, leaf_size = 1\n",
      "k = 10, metric = euclidean, weights = distance, leaf_size = 31\n",
      "k = 10, metric = euclidean, weights = distance, leaf_size = 61\n",
      "k = 11, metric = cityblock, weights = uniform, leaf_size = 1\n",
      "k = 11, metric = cityblock, weights = uniform, leaf_size = 31\n",
      "k = 11, metric = cityblock, weights = uniform, leaf_size = 61\n",
      "k = 11, metric = cityblock, weights = distance, leaf_size = 1\n",
      "k = 11, metric = cityblock, weights = distance, leaf_size = 31\n",
      "k = 11, metric = cityblock, weights = distance, leaf_size = 61\n",
      "k = 11, metric = cosine, weights = uniform, leaf_size = 1\n",
      "k = 11, metric = cosine, weights = uniform, leaf_size = 31\n",
      "k = 11, metric = cosine, weights = uniform, leaf_size = 61\n",
      "k = 11, metric = cosine, weights = distance, leaf_size = 1\n",
      "k = 11, metric = cosine, weights = distance, leaf_size = 31\n",
      "k = 11, metric = cosine, weights = distance, leaf_size = 61\n",
      "k = 11, metric = euclidean, weights = uniform, leaf_size = 1\n",
      "k = 11, metric = euclidean, weights = uniform, leaf_size = 31\n",
      "k = 11, metric = euclidean, weights = uniform, leaf_size = 61\n",
      "k = 11, metric = euclidean, weights = distance, leaf_size = 1\n",
      "k = 11, metric = euclidean, weights = distance, leaf_size = 31\n",
      "k = 11, metric = euclidean, weights = distance, leaf_size = 61\n",
      "k = 12, metric = cityblock, weights = uniform, leaf_size = 1\n",
      "k = 12, metric = cityblock, weights = uniform, leaf_size = 31\n",
      "k = 12, metric = cityblock, weights = uniform, leaf_size = 61\n",
      "k = 12, metric = cityblock, weights = distance, leaf_size = 1\n",
      "k = 12, metric = cityblock, weights = distance, leaf_size = 31\n",
      "k = 12, metric = cityblock, weights = distance, leaf_size = 61\n",
      "k = 12, metric = cosine, weights = uniform, leaf_size = 1\n",
      "k = 12, metric = cosine, weights = uniform, leaf_size = 31\n",
      "k = 12, metric = cosine, weights = uniform, leaf_size = 61\n",
      "k = 12, metric = cosine, weights = distance, leaf_size = 1\n",
      "k = 12, metric = cosine, weights = distance, leaf_size = 31\n",
      "k = 12, metric = cosine, weights = distance, leaf_size = 61\n",
      "k = 12, metric = euclidean, weights = uniform, leaf_size = 1\n",
      "k = 12, metric = euclidean, weights = uniform, leaf_size = 31\n",
      "k = 12, metric = euclidean, weights = uniform, leaf_size = 61\n",
      "k = 12, metric = euclidean, weights = distance, leaf_size = 1\n",
      "k = 12, metric = euclidean, weights = distance, leaf_size = 31\n",
      "k = 12, metric = euclidean, weights = distance, leaf_size = 61\n",
      "REQM (rmse) do melhor modelo de K Nearest Neighbors: 56.5117.\n",
      "Hiperparâmetros:\n",
      "- K = 11,\n",
      "- Metric = euclidean\n",
      "- Weight = distance\n",
      "- Leaf size = 1\n"
     ]
    }
   ],
   "source": [
    "# Encontrando o melhor modelo de KNearestNeighbors\n",
    "best_rmse = 1000000\n",
    "best_k = 0\n",
    "best_metric = 'text'\n",
    "best_weights = 'text'\n",
    "best_leaf_size = 0\n",
    "\n",
    "metrics = ['cityblock', 'cosine', 'euclidean']\n",
    "\n",
    "for k in range(1, 13):\n",
    "    for metric in metrics:\n",
    "        for weights in ['uniform', 'distance']:\n",
    "            for leaf_size in range(1, 62, 30):\n",
    "                print(f'k = {k}, metric = {metric}, weights = {weights}, leaf_size = {leaf_size}')\n",
    "                model = KNeighborsRegressor(\n",
    "                    n_neighbors=k,\n",
    "                    metric=metric,\n",
    "                    weights=weights,\n",
    "                    leaf_size=leaf_size\n",
    "                )\n",
    "                model.fit(train_features, train_target)\n",
    "                preds = model.predict(valid_features)\n",
    "\n",
    "                rmse = root_mean_squared_error(valid_target, preds)\n",
    "\n",
    "                if rmse < best_rmse:\n",
    "                    best_rmse = rmse\n",
    "                    best_k = k\n",
    "                    best_metric = metric\n",
    "                    best_weight = weights\n",
    "                    best_leaf_size = leaf_size\n",
    "            \n",
    "print(f'REQM (rmse) do melhor modelo de K Nearest Neighbors: {rmse:.4f}.')\n",
    "print(f'Hiperparâmetros:')\n",
    "print(f'- K = {best_k},')\n",
    "print(f'- Metric = {best_metric}')\n",
    "print(f'- Weight = {best_weight}')\n",
    "print(f'- Leaf size = {best_leaf_size}')"
   ]
  },
  {
   "cell_type": "markdown",
   "metadata": {},
   "source": [
    "<s>\n",
    "    <div class=\"alert alert-block alert-danger\">\n",
    "<b> Comentário do revisor: </b> <a class=\"tocSkip\"></a>\n",
    "\n",
    "Precisa usar conjunto de validação em vez de teste\n",
    "</div>\n",
    "."
   ]
  },
  {
   "cell_type": "code",
   "execution_count": 50,
   "metadata": {},
   "outputs": [
    {
     "name": "stdout",
     "output_type": "stream",
     "text": [
      "Tempo de treinamento do modelo K Nearest Neighbors: 0.00809 segundos.\n"
     ]
    }
   ],
   "source": [
    "start_time = time.time()\n",
    "\n",
    "# Treinando o modelo com os melhores hiperparâmetros:\n",
    "kneighbors_model = KNeighborsRegressor(n_neighbors=11, metric='euclidean', weights='distance', leaf_size=1)\n",
    "kneighbors_model.fit(train_features, train_target)\n",
    "\n",
    "end_time = time.time()\n",
    "training_time = end_time - start_time\n",
    "print(f'Tempo de treinamento do modelo K Nearest Neighbors: {training_time:.5f} segundos.')"
   ]
  },
  {
   "cell_type": "code",
   "execution_count": 51,
   "metadata": {},
   "outputs": [
    {
     "name": "stdout",
     "output_type": "stream",
     "text": [
      "Tempo de predição do modelo K Nearest Neighbors: 0.00406 segundos.\n"
     ]
    }
   ],
   "source": [
    "start_time = time.time()\n",
    "\n",
    "# Criando variável com predições de teste\n",
    "kneighbors_preds = kneighbors_model.predict(test_features)\n",
    "\n",
    "end_time = time.time()\n",
    "prediction_time = end_time - start_time\n",
    "print(f'Tempo de predição do modelo K Nearest Neighbors: {prediction_time:.5f} segundos.')"
   ]
  },
  {
   "cell_type": "markdown",
   "metadata": {},
   "source": [
    "### Modelo 4: ARIMA *(Autoregressive Integrated Moving Average)*\n",
    "\n",
    "Como nenhum dos modelos anteriores atingiu uma métrica RMSE satisfatória *(inferior a 48)*, irei treinar um modelo básico da biblioteca *Statsmodels*, SARIMAx, pois os dados estudados possuem sazonalidade."
   ]
  },
  {
   "cell_type": "code",
   "execution_count": 20,
   "metadata": {},
   "outputs": [
    {
     "name": "stdout",
     "output_type": "stream",
     "text": [
      "RUNNING THE L-BFGS-B CODE\n",
      "\n",
      "           * * *\n",
      "\n",
      "Machine precision = 2.220D-16\n",
      " N =            9     M =           10\n",
      "\n",
      "At X0         0 variables are exactly at the bounds\n",
      "\n",
      "At iterate    0    f=  4.62522D+00    |proj g|=  8.13294D-02\n"
     ]
    },
    {
     "name": "stderr",
     "output_type": "stream",
     "text": [
      " This problem is unconstrained.\n"
     ]
    },
    {
     "name": "stdout",
     "output_type": "stream",
     "text": [
      "\n",
      "At iterate    5    f=  4.57438D+00    |proj g|=  1.86639D-02\n",
      "\n",
      "At iterate   10    f=  4.56411D+00    |proj g|=  2.02589D-02\n",
      "\n",
      "At iterate   15    f=  4.50613D+00    |proj g|=  1.48881D-01\n",
      "\n",
      "At iterate   20    f=  4.48706D+00    |proj g|=  5.63383D-03\n",
      "\n",
      "At iterate   25    f=  4.48675D+00    |proj g|=  9.12028D-03\n",
      "\n",
      "At iterate   30    f=  4.48655D+00    |proj g|=  5.14914D-03\n",
      "\n",
      "At iterate   35    f=  4.47751D+00    |proj g|=  5.26970D-03\n",
      "\n",
      "At iterate   40    f=  4.47654D+00    |proj g|=  3.64991D-03\n",
      "\n",
      "At iterate   45    f=  4.47515D+00    |proj g|=  4.17128D-04\n",
      "\n",
      "At iterate   50    f=  4.47512D+00    |proj g|=  5.79535D-04\n",
      "\n",
      "           * * *\n",
      "\n",
      "Tit   = total number of iterations\n",
      "Tnf   = total number of function evaluations\n",
      "Tnint = total number of segments explored during Cauchy searches\n",
      "Skip  = number of BFGS updates skipped\n",
      "Nact  = number of active bounds at final generalized Cauchy point\n",
      "Projg = norm of the final projected gradient\n",
      "F     = final function value\n",
      "\n",
      "           * * *\n",
      "\n",
      "   N    Tit     Tnf  Tnint  Skip  Nact     Projg        F\n",
      "    9     50     61      1     0     0   5.795D-04   4.475D+00\n",
      "  F =   4.4751208864023697     \n",
      "\n",
      "STOP: TOTAL NO. of ITERATIONS REACHED LIMIT                 \n"
     ]
    },
    {
     "name": "stderr",
     "output_type": "stream",
     "text": [
      "/opt/conda/envs/python3/lib/python3.9/site-packages/statsmodels/base/model.py:604: ConvergenceWarning: Maximum Likelihood optimization failed to converge. Check mle_retvals\n",
      "  warnings.warn(\"Maximum Likelihood optimization failed to \"\n"
     ]
    },
    {
     "name": "stdout",
     "output_type": "stream",
     "text": [
      "Tempo de treinamento do modelo SARIMAx: 142.71989 segundos.\n",
      "REQM (rmse) modelo SARIMAx no conjundo de validação: 41.9369.\n"
     ]
    }
   ],
   "source": [
    "start_time = time.time()\n",
    "\n",
    "# Treinando um modelo básico SARIMAx\n",
    "sarima_model = SARIMAX(\n",
    "    train_target,\n",
    "    order=(3, 1, 3), # Parâmetros ARIMA\n",
    "    seasonal_order=(1,1,1, 24) # Parâmetros sazonais\n",
    ").fit()\n",
    "\n",
    "end_time = time.time()\n",
    "training_time = end_time - start_time\n",
    "\n",
    "sarima_preds0 = sarima_model.forecast(steps=len(valid_features))\n",
    "\n",
    "sarima_rmse0 = root_mean_squared_error(valid_target, sarima_preds0)\n",
    "print(f'Tempo de treinamento do modelo SARIMAx: {training_time:.5f} segundos.')\n",
    "print(f'REQM (rmse) modelo SARIMAx no conjundo de validação: {sarima_rmse0:.4f}.')"
   ]
  },
  {
   "cell_type": "code",
   "execution_count": 55,
   "metadata": {},
   "outputs": [
    {
     "name": "stdout",
     "output_type": "stream",
     "text": [
      "Tempo de predição do modelo SARIMAx: 0.00612 segundos.\n"
     ]
    }
   ],
   "source": [
    "start_time = time.time()\n",
    "\n",
    "# Criando variável com predições de teste\n",
    "sarima_preds = sarima_model.forecast(steps=len(test_features))\n",
    "\n",
    "end_time = time.time()\n",
    "prediction_time = end_time - start_time\n",
    "print(f'Tempo de predição do modelo SARIMAx: {prediction_time:.5f} segundos.')"
   ]
  },
  {
   "cell_type": "markdown",
   "metadata": {},
   "source": [
    "## Testando"
   ]
  },
  {
   "cell_type": "code",
   "execution_count": 56,
   "metadata": {},
   "outputs": [
    {
     "name": "stdout",
     "output_type": "stream",
     "text": [
      "REQM (rmse) para o modelo Dummy = 76.0215\n",
      "Tempo total para o modelo Dummy: 0.00098 segundos.\n",
      "\n",
      "REQM (rmse) para o modelo Regressão Linear = 69.8814\n",
      "Tempo total para o modelo Regressão Linear: 0.00068 segundos.\n",
      "\n",
      "REQM (rmse) para o modelo Gradient Boosting = 64.1356\n",
      "Tempo total para o modelo Gradient Boosting: 0.00085 segundos.\n",
      "\n",
      "REQM (rmse) para o modelo K Nearest Neighbors = 87.1890\n",
      "Tempo total para o modelo K Nearest Neighbors: 0.00060 segundos.\n",
      "\n",
      "REQM (rmse) para o modelo SARIMAx = 92.0952\n",
      "Tempo total para o modelo SARIMAx: 0.00058 segundos.\n",
      "\n"
     ]
    }
   ],
   "source": [
    "# Testando os diferentes modelos\n",
    "predictions = {\n",
    "    'dummy_preds' : dummy_preds, \n",
    "    'linear_regression_preds' : linear_regression_preds,\n",
    "    'grad_boost_preds' : grad_boost_preds,\n",
    "    'kneighbors_preds' : kneighbors_preds,\n",
    "    'sarima_preds' : sarima_preds,\n",
    "}\n",
    "model = {\n",
    "    'dummy_preds' : 'Dummy',\n",
    "    'linear_regression_preds': 'Regressão Linear',\n",
    "    'grad_boost_preds' : 'Gradient Boosting',\n",
    "    'kneighbors_preds' : 'K Nearest Neighbors',\n",
    "    'sarima_preds' : 'SARIMAx',\n",
    "}\n",
    "\n",
    "for key, preds in predictions.items():\n",
    "    start_time = time.time()\n",
    "    \n",
    "    print(f'REQM (rmse) para o modelo {model[key]} = {root_mean_squared_error(test_target, preds):.4f}')\n",
    "    \n",
    "    end_time = time.time()\n",
    "    total_time = end_time - start_time\n",
    "\n",
    "    print(f'Tempo total para o modelo {model[key]}: {total_time:.5f} segundos.')\n",
    "    print()"
   ]
  },
  {
   "cell_type": "markdown",
   "metadata": {},
   "source": [
    "<div class=\"alert alert-block alert-warning\">\n",
    "<b> Comentário Geral do Revisor Final: </b> <a class=\"tocSkip\"></a>\n",
    "\n",
    "Esse código não calcula o tempo de predição mas o tempo para computar o RMSE\n",
    "</div>"
   ]
  },
  {
   "cell_type": "markdown",
   "metadata": {},
   "source": [
    "O modelo com o melhor rmse no conjunto de teste é o **Gradient Boosting**, com *64.13*.\n",
    "\n",
    "Quanto ao tempo de execução todos são velozes, tendo diferença irrizória entre os tempos totais de execução. O modelo mais veloz é também o que obteve o pior rmse: **SARIMAx**, com *0.0058 segundos* de execução e rmse maior que o do modelo *Dummy*."
   ]
  },
  {
   "cell_type": "markdown",
   "metadata": {},
   "source": [
    "### Ranking dos modelos:\n",
    "\n",
    "**Métrica REQM (rmse):**\n",
    "- 1º Gradient Boosting - 64.1356\n",
    "- 2º Regressão Linear - 69.8814\n",
    "- 3º Modelo Dummy - 76.0215\n",
    "- 4º K Nearest Neighbors - 87.1890\n",
    "- 5º SARIMAx - 92.0952\n",
    "\n",
    "**Tempo de treinamento do modelo:**\n",
    "- 1º Modelo Dummy - 0.00042 segundos\n",
    "- 2º Regressão Linear - 0.00436 segundos\n",
    "- 3º K Nearest Neighbors - 0.00809 segundos\n",
    "- 4º Gradient Boosting - 3.98551 segundos\n",
    "- 5º SARIMAx - 142.71989\n",
    "\n",
    "**Tempo de predição para o conjunto de teste:**\n",
    "- 1º Modelo Dummy - 0.00042 segundos\n",
    "- 2º Gradient Boosting - 0.00146 segundos\n",
    "- 3º Regressão Linear - 0.00171 segundos\n",
    "- 4º K Nearest Neighbors - 0.00406 segundos\n",
    "- 5º SARIMAx - 0.00612 segundos"
   ]
  },
  {
   "cell_type": "markdown",
   "metadata": {},
   "source": [
    "## Conclusão\n",
    "\n",
    "### Sobre o Objetivo\n",
    "\n",
    "Desenvolvi um modelo capaz de prever o número de pedidos de táxi para a próxima hora, atendendo à métrica estabelecida de REQM (RMSE) não superior a **48** *no conjunto de validação* (**Gradient Boosting** teve desempenho de rmse de 42.4944 no conjunto de validação).\n",
    "\n",
    "### Desempenho dos Modelos\n",
    "\n",
    "- **Gradient Boosting** teve o melhor desempenho tanto no conjunto de validação como no de testes, sendo o rmse de *42.4944* no conjunto de validação e *64.1356* no conjunto de testes.\n",
    "- **Regressão Linear** foi o segundo melhor modelo no conjunto de testes, com rmse de *69.8814*.\n",
    "- Apesar do modelo **SARIMAx** ter apresentado o melhor desempenho de todos no conjunto de validação *(41.9369)*, no conjunto de testes obteve desempenho pior até mesmo que o modelo Dummy *(76.0215 para o modelo Dummy contra 92.0952 do SARIMAx)*.\n",
    "\n",
    "### Ranking por Critérios\n",
    "\n",
    "**Precisão (RMSE):**\n",
    "\n",
    "- Gradient Boosting\n",
    "- Regressão Linear\n",
    "- Modelo Dummy\n",
    "- K Nearest Neighbors\n",
    "- SARIMAx\n",
    "\n",
    "**Tempo de Treinamento:**\n",
    "\n",
    "- Modelo Dummy\n",
    "- Regressão Linear\n",
    "- K Nearest Neighbors\n",
    "- Gradient Boosting\n",
    "- SARIMAx\n",
    "\n",
    "**Velocidade de Previsão:**\n",
    "\n",
    "- Modelo Dummy\n",
    "- Gradient Boosting\n",
    "- Regressão Linear\n",
    "- K Nearest Neighbors\n",
    "- SARIMAx\n",
    "\n",
    "### Considerações sobre a Implementação\n",
    "\n",
    "- A criação de características temporais e lags foi crucial para o desempenho dos modelos, destacando-se a importância de uma abordagem robusta de preparação de dados.\n",
    "- O uso de múltiplos algoritmos possibilitou comparações detalhadas, assegurando a escolha do modelo mais adequado para diferentes cenários *(precisão vs. velocidade).*\n",
    "\n",
    "### Aplicações Futuras\n",
    "\n",
    "- **Integração e Otimização:** Modelos como o Gradient Boosting podem ser integrados diretamente aos sistemas da Sweet Lift Taxi para prever a demanda e otimizar a alocação de motoristas em tempo real, especialmente em regiões de alta demanda.\n",
    "\n",
    "- **Exploração Avançada de Sazonalidade:** Implementar modelos que incorporem sazonalidade e tendências dinâmicas para melhor adequação às variações de longo prazo e eventos específicos.\n",
    "\n",
    "- **Aprimoramento do SARIMAx:** Considerar otimizações nos parâmetros iniciais e refinamentos na metodologia de validação para melhorar seu desempenho em cenários reais.\n",
    "\n",
    "- **Abordagens Híbridas:** Explorar combinações entre modelos como Gradient Boosting e SARIMAx, aproveitando suas vantagens complementares de previsão de curto prazo e captura de padrões sazonais.\n",
    "\n",
    "### Recomendações\n",
    "\n",
    "- Realizar monitoramento contínuo do desempenho dos modelos para garantir a manutenção da qualidade das previsões à medida que novos dados são coletados.\n",
    "- Investir em infraestrutura que suporte previsões em tempo real para potencializar a experiência de motoristas e passageiros.\n",
    "- Com esses insights, a Sweet Lift Taxi está bem equipada para enfrentar os desafios relacionados à gestão de demanda em horários de pico, garantindo uma operação mais eficiente e um melhor atendimento ao cliente.\n",
    "\n",
    "### O melhor modelo\n",
    "\n",
    "Hiperparâmetros do melhor modelo recomendado:\n",
    "\n",
    "```\n",
    "grad_boost_model = CatBoostRegressor(\n",
    "            iterations=1000,\n",
    "            depth=6,\n",
    "            learning_rate=0.1,\n",
    "            loss_function='RMSE',\n",
    "            random_seed=12345,\n",
    "            has_time=True,\n",
    "            verbose=False,\n",
    "            grow_policy='Depthwise',\n",
    "            fold_permutation_block=1,\n",
    "            leaf_estimation_method='Gradient',\n",
    "        )\n",
    "```\n",
    "\n",
    "### Criação de características para o modelo *(features)*\n",
    "\n",
    "Função para criação de características à partir dos dados recebidos:\n",
    "\n",
    "\n",
    "```\n",
    "def make_features(df, max_lag, rolling_mean_size):\n",
    "    df['year'] = df.index.year\n",
    "    df['month'] = df.index.month\n",
    "    df['day'] = df.index.day\n",
    "    df['dayofweek'] = df.index.dayofweek\n",
    "    df['hour'] = df.index.hour\n",
    "    \n",
    "    for lag in range(1, max_lag +1):\n",
    "        df['lag_{}'.format(lag)] = df.iloc[:,0].shift(lag)\n",
    "        \n",
    "    df['rolling_mean'] = df.iloc[:,0].shift().rolling(rolling_mean_size).mean()\n",
    "```"
   ]
  },
  {
   "cell_type": "markdown",
   "metadata": {},
   "source": [
    "# Revisão da checklist"
   ]
  },
  {
   "cell_type": "markdown",
   "metadata": {},
   "source": [
    "- [x]  O Jupyter Notebook está aberto.\n",
    "\n",
    "- [ ]  O código está livre de erros\n",
    "- [ ]  As células com o código foram organizadas em ordem de execução.\n",
    "- [x]  Os dados foram baixados e preparados\n",
    "\n",
    "- [x]  Os dados foram analisados\n",
    "- [ ]  O modelo foi treinado e os hiperparâmetros foram selecionados\n",
    "- [ ]  O modelo foi avaliado. Uma conclusão foi fornecida\n",
    "\n",
    "- [ ] O REQM para o conjunto de teste não é maior que 48"
   ]
  }
 ],
 "metadata": {
  "ExecuteTimeLog": [
   {
    "duration": 977,
    "start_time": "2024-12-21T20:40:03.073Z"
   },
   {
    "duration": 13,
    "start_time": "2024-12-21T20:40:51.264Z"
   },
   {
    "duration": 2377,
    "start_time": "2024-12-21T20:43:06.408Z"
   },
   {
    "duration": 2089,
    "start_time": "2024-12-21T20:43:25.299Z"
   },
   {
    "duration": 968,
    "start_time": "2024-12-21T20:43:27.391Z"
   },
   {
    "duration": 3662,
    "start_time": "2024-12-21T20:44:24.282Z"
   },
   {
    "duration": 17,
    "start_time": "2024-12-21T20:44:30.682Z"
   },
   {
    "duration": 1924,
    "start_time": "2024-12-21T20:44:35.393Z"
   },
   {
    "duration": 782,
    "start_time": "2024-12-21T20:44:37.319Z"
   },
   {
    "duration": 30,
    "start_time": "2024-12-21T20:48:24.341Z"
   },
   {
    "duration": 8,
    "start_time": "2024-12-21T20:50:11.310Z"
   },
   {
    "duration": 9,
    "start_time": "2024-12-21T20:50:40.550Z"
   },
   {
    "duration": 10,
    "start_time": "2024-12-21T20:51:13.590Z"
   },
   {
    "duration": 1917,
    "start_time": "2024-12-21T20:52:59.740Z"
   },
   {
    "duration": 754,
    "start_time": "2024-12-21T20:53:01.659Z"
   },
   {
    "duration": 20,
    "start_time": "2024-12-21T20:53:02.414Z"
   },
   {
    "duration": 232,
    "start_time": "2024-12-21T20:53:02.437Z"
   },
   {
    "duration": 0,
    "start_time": "2024-12-21T20:53:02.671Z"
   },
   {
    "duration": 0,
    "start_time": "2024-12-21T20:53:02.671Z"
   },
   {
    "duration": 13,
    "start_time": "2024-12-21T20:53:27.268Z"
   },
   {
    "duration": 14,
    "start_time": "2024-12-21T20:53:43.135Z"
   },
   {
    "duration": 19,
    "start_time": "2024-12-21T20:53:54.591Z"
   },
   {
    "duration": 13,
    "start_time": "2024-12-21T20:53:56.167Z"
   },
   {
    "duration": 13,
    "start_time": "2024-12-21T20:54:27.572Z"
   },
   {
    "duration": 1907,
    "start_time": "2024-12-21T20:54:35.898Z"
   },
   {
    "duration": 710,
    "start_time": "2024-12-21T20:54:37.807Z"
   },
   {
    "duration": 23,
    "start_time": "2024-12-21T20:54:38.519Z"
   },
   {
    "duration": 7,
    "start_time": "2024-12-21T20:54:38.544Z"
   },
   {
    "duration": 7,
    "start_time": "2024-12-21T20:54:38.553Z"
   },
   {
    "duration": 10,
    "start_time": "2024-12-21T20:54:38.562Z"
   },
   {
    "duration": 6,
    "start_time": "2024-12-21T20:55:08.168Z"
   },
   {
    "duration": 23,
    "start_time": "2024-12-21T20:59:56.940Z"
   },
   {
    "duration": 6,
    "start_time": "2024-12-21T21:01:39.391Z"
   },
   {
    "duration": 225,
    "start_time": "2024-12-21T21:03:47.083Z"
   },
   {
    "duration": 1853,
    "start_time": "2024-12-21T21:04:50.867Z"
   },
   {
    "duration": 396,
    "start_time": "2024-12-21T21:04:57.682Z"
   },
   {
    "duration": 560,
    "start_time": "2024-12-21T21:05:32.477Z"
   },
   {
    "duration": 514,
    "start_time": "2024-12-21T21:07:58.355Z"
   },
   {
    "duration": 620,
    "start_time": "2024-12-21T21:08:08.536Z"
   },
   {
    "duration": 4,
    "start_time": "2024-12-21T21:22:15.482Z"
   },
   {
    "duration": 10,
    "start_time": "2024-12-21T21:24:00.273Z"
   },
   {
    "duration": 12,
    "start_time": "2024-12-21T21:24:09.855Z"
   },
   {
    "duration": 13,
    "start_time": "2024-12-21T21:24:18.729Z"
   },
   {
    "duration": 6,
    "start_time": "2024-12-21T21:25:04.100Z"
   },
   {
    "duration": 12,
    "start_time": "2024-12-21T21:25:05.852Z"
   },
   {
    "duration": 3,
    "start_time": "2024-12-21T21:26:32.656Z"
   },
   {
    "duration": 5,
    "start_time": "2024-12-21T21:27:41.867Z"
   },
   {
    "duration": 10,
    "start_time": "2024-12-21T21:27:57.300Z"
   },
   {
    "duration": 4,
    "start_time": "2024-12-21T21:28:11.085Z"
   },
   {
    "duration": 3,
    "start_time": "2024-12-21T21:35:39.757Z"
   },
   {
    "duration": 8,
    "start_time": "2024-12-21T21:36:37.049Z"
   },
   {
    "duration": 8,
    "start_time": "2024-12-21T21:38:22.718Z"
   },
   {
    "duration": 5,
    "start_time": "2024-12-21T21:38:53.011Z"
   },
   {
    "duration": 7,
    "start_time": "2024-12-21T21:39:14.817Z"
   },
   {
    "duration": 3711,
    "start_time": "2024-12-22T21:20:15.637Z"
   },
   {
    "duration": 2900,
    "start_time": "2024-12-22T21:20:19.351Z"
   },
   {
    "duration": 0,
    "start_time": "2024-12-22T21:20:22.253Z"
   },
   {
    "duration": 0,
    "start_time": "2024-12-22T21:20:22.255Z"
   },
   {
    "duration": 0,
    "start_time": "2024-12-22T21:20:22.256Z"
   },
   {
    "duration": 0,
    "start_time": "2024-12-22T21:20:22.257Z"
   },
   {
    "duration": 0,
    "start_time": "2024-12-22T21:20:22.259Z"
   },
   {
    "duration": 0,
    "start_time": "2024-12-22T21:20:22.261Z"
   },
   {
    "duration": 0,
    "start_time": "2024-12-22T21:20:22.262Z"
   },
   {
    "duration": 0,
    "start_time": "2024-12-22T21:20:22.264Z"
   },
   {
    "duration": 0,
    "start_time": "2024-12-22T21:20:22.265Z"
   },
   {
    "duration": 0,
    "start_time": "2024-12-22T21:20:22.266Z"
   },
   {
    "duration": 0,
    "start_time": "2024-12-22T21:20:22.267Z"
   },
   {
    "duration": 0,
    "start_time": "2024-12-22T21:20:22.268Z"
   },
   {
    "duration": 0,
    "start_time": "2024-12-22T21:20:22.269Z"
   },
   {
    "duration": 0,
    "start_time": "2024-12-22T21:20:22.270Z"
   },
   {
    "duration": 0,
    "start_time": "2024-12-22T21:20:22.272Z"
   },
   {
    "duration": 0,
    "start_time": "2024-12-22T21:20:22.273Z"
   },
   {
    "duration": 0,
    "start_time": "2024-12-22T21:20:22.309Z"
   },
   {
    "duration": 1930,
    "start_time": "2024-12-22T21:20:53.557Z"
   },
   {
    "duration": 18,
    "start_time": "2024-12-22T21:20:55.490Z"
   },
   {
    "duration": 0,
    "start_time": "2024-12-22T21:20:55.510Z"
   },
   {
    "duration": 0,
    "start_time": "2024-12-22T21:20:55.511Z"
   },
   {
    "duration": 1,
    "start_time": "2024-12-22T21:20:55.512Z"
   },
   {
    "duration": 0,
    "start_time": "2024-12-22T21:20:55.514Z"
   },
   {
    "duration": 0,
    "start_time": "2024-12-22T21:20:55.515Z"
   },
   {
    "duration": 0,
    "start_time": "2024-12-22T21:20:55.516Z"
   },
   {
    "duration": 0,
    "start_time": "2024-12-22T21:20:55.517Z"
   },
   {
    "duration": 0,
    "start_time": "2024-12-22T21:20:55.518Z"
   },
   {
    "duration": 0,
    "start_time": "2024-12-22T21:20:55.519Z"
   },
   {
    "duration": 0,
    "start_time": "2024-12-22T21:20:55.520Z"
   },
   {
    "duration": 0,
    "start_time": "2024-12-22T21:20:55.521Z"
   },
   {
    "duration": 0,
    "start_time": "2024-12-22T21:20:55.522Z"
   },
   {
    "duration": 0,
    "start_time": "2024-12-22T21:20:55.523Z"
   },
   {
    "duration": 0,
    "start_time": "2024-12-22T21:20:55.525Z"
   },
   {
    "duration": 0,
    "start_time": "2024-12-22T21:20:55.525Z"
   },
   {
    "duration": 0,
    "start_time": "2024-12-22T21:20:55.527Z"
   },
   {
    "duration": 0,
    "start_time": "2024-12-22T21:20:55.528Z"
   },
   {
    "duration": 1935,
    "start_time": "2024-12-22T21:21:14.952Z"
   },
   {
    "duration": 947,
    "start_time": "2024-12-22T21:21:16.890Z"
   },
   {
    "duration": 33,
    "start_time": "2024-12-22T21:21:17.839Z"
   },
   {
    "duration": 6,
    "start_time": "2024-12-22T21:21:17.875Z"
   },
   {
    "duration": 8,
    "start_time": "2024-12-22T21:21:17.883Z"
   },
   {
    "duration": 17,
    "start_time": "2024-12-22T21:21:17.893Z"
   },
   {
    "duration": 8,
    "start_time": "2024-12-22T21:21:17.911Z"
   },
   {
    "duration": 572,
    "start_time": "2024-12-22T21:21:17.921Z"
   },
   {
    "duration": 5,
    "start_time": "2024-12-22T21:21:18.495Z"
   },
   {
    "duration": 9,
    "start_time": "2024-12-22T21:21:18.504Z"
   },
   {
    "duration": 6,
    "start_time": "2024-12-22T21:21:18.514Z"
   },
   {
    "duration": 12,
    "start_time": "2024-12-22T21:21:18.522Z"
   },
   {
    "duration": 4,
    "start_time": "2024-12-22T21:21:18.535Z"
   },
   {
    "duration": 5,
    "start_time": "2024-12-22T21:21:18.540Z"
   },
   {
    "duration": 10,
    "start_time": "2024-12-22T21:21:18.546Z"
   },
   {
    "duration": 5,
    "start_time": "2024-12-22T21:21:18.557Z"
   },
   {
    "duration": 4,
    "start_time": "2024-12-22T21:21:18.563Z"
   },
   {
    "duration": 45,
    "start_time": "2024-12-22T21:21:18.568Z"
   },
   {
    "duration": 16,
    "start_time": "2024-12-22T21:21:18.614Z"
   },
   {
    "duration": 3,
    "start_time": "2024-12-22T21:27:31.509Z"
   },
   {
    "duration": 12,
    "start_time": "2024-12-22T21:41:06.931Z"
   },
   {
    "duration": 161,
    "start_time": "2024-12-22T21:43:56.914Z"
   },
   {
    "duration": 3,
    "start_time": "2024-12-22T21:45:00.874Z"
   },
   {
    "duration": 541,
    "start_time": "2024-12-22T22:00:49.823Z"
   },
   {
    "duration": 184,
    "start_time": "2024-12-22T22:02:20.806Z"
   },
   {
    "duration": 179,
    "start_time": "2024-12-22T22:02:46.898Z"
   },
   {
    "duration": 184,
    "start_time": "2024-12-22T22:02:55.909Z"
   },
   {
    "duration": 178,
    "start_time": "2024-12-22T22:03:03.332Z"
   },
   {
    "duration": 173,
    "start_time": "2024-12-22T22:03:09.895Z"
   },
   {
    "duration": 186,
    "start_time": "2024-12-22T22:03:20.985Z"
   },
   {
    "duration": 1294,
    "start_time": "2024-12-22T22:03:38.805Z"
   },
   {
    "duration": 1338,
    "start_time": "2024-12-22T22:09:17.090Z"
   },
   {
    "duration": 1263,
    "start_time": "2024-12-22T22:09:36.522Z"
   },
   {
    "duration": 12047,
    "start_time": "2024-12-22T22:09:50.573Z"
   },
   {
    "duration": 24027,
    "start_time": "2024-12-22T22:10:47.162Z"
   },
   {
    "duration": 35821,
    "start_time": "2024-12-22T22:11:32.210Z"
   },
   {
    "duration": 1962,
    "start_time": "2024-12-22T22:13:43.105Z"
   },
   {
    "duration": 943,
    "start_time": "2024-12-22T22:13:45.070Z"
   },
   {
    "duration": 21,
    "start_time": "2024-12-22T22:13:46.015Z"
   },
   {
    "duration": 7,
    "start_time": "2024-12-22T22:13:46.038Z"
   },
   {
    "duration": 8,
    "start_time": "2024-12-22T22:13:46.047Z"
   },
   {
    "duration": 8,
    "start_time": "2024-12-22T22:13:46.057Z"
   },
   {
    "duration": 6,
    "start_time": "2024-12-22T22:13:46.067Z"
   },
   {
    "duration": 620,
    "start_time": "2024-12-22T22:13:46.074Z"
   },
   {
    "duration": 4,
    "start_time": "2024-12-22T22:13:46.695Z"
   },
   {
    "duration": 11,
    "start_time": "2024-12-22T22:13:46.702Z"
   },
   {
    "duration": 6,
    "start_time": "2024-12-22T22:13:46.714Z"
   },
   {
    "duration": 12,
    "start_time": "2024-12-22T22:13:46.721Z"
   },
   {
    "duration": 3,
    "start_time": "2024-12-22T22:13:46.735Z"
   },
   {
    "duration": 4,
    "start_time": "2024-12-22T22:13:46.740Z"
   },
   {
    "duration": 11,
    "start_time": "2024-12-22T22:13:46.746Z"
   },
   {
    "duration": 4,
    "start_time": "2024-12-22T22:13:46.759Z"
   },
   {
    "duration": 3,
    "start_time": "2024-12-22T22:13:46.765Z"
   },
   {
    "duration": 43,
    "start_time": "2024-12-22T22:13:46.770Z"
   },
   {
    "duration": 94,
    "start_time": "2024-12-22T22:13:46.815Z"
   },
   {
    "duration": 16,
    "start_time": "2024-12-22T22:13:46.911Z"
   },
   {
    "duration": 22764,
    "start_time": "2024-12-22T22:13:46.929Z"
   },
   {
    "duration": 54,
    "start_time": "2024-12-22T22:14:09.695Z"
   },
   {
    "duration": 1987,
    "start_time": "2024-12-22T22:15:26.072Z"
   },
   {
    "duration": 938,
    "start_time": "2024-12-22T22:15:28.061Z"
   },
   {
    "duration": 26,
    "start_time": "2024-12-22T22:15:29.000Z"
   },
   {
    "duration": 8,
    "start_time": "2024-12-22T22:15:29.028Z"
   },
   {
    "duration": 9,
    "start_time": "2024-12-22T22:15:29.037Z"
   },
   {
    "duration": 9,
    "start_time": "2024-12-22T22:15:29.047Z"
   },
   {
    "duration": 6,
    "start_time": "2024-12-22T22:15:29.058Z"
   },
   {
    "duration": 613,
    "start_time": "2024-12-22T22:15:29.065Z"
   },
   {
    "duration": 4,
    "start_time": "2024-12-22T22:15:29.680Z"
   },
   {
    "duration": 13,
    "start_time": "2024-12-22T22:15:29.687Z"
   },
   {
    "duration": 6,
    "start_time": "2024-12-22T22:15:29.703Z"
   },
   {
    "duration": 16,
    "start_time": "2024-12-22T22:15:29.711Z"
   },
   {
    "duration": 4,
    "start_time": "2024-12-22T22:15:29.730Z"
   },
   {
    "duration": 6,
    "start_time": "2024-12-22T22:15:29.735Z"
   },
   {
    "duration": 11,
    "start_time": "2024-12-22T22:15:29.743Z"
   },
   {
    "duration": 11,
    "start_time": "2024-12-22T22:15:29.758Z"
   },
   {
    "duration": 4,
    "start_time": "2024-12-22T22:15:29.771Z"
   },
   {
    "duration": 35,
    "start_time": "2024-12-22T22:15:29.777Z"
   },
   {
    "duration": 17,
    "start_time": "2024-12-22T22:15:29.814Z"
   },
   {
    "duration": 88,
    "start_time": "2024-12-22T22:15:29.833Z"
   },
   {
    "duration": 22719,
    "start_time": "2024-12-22T22:15:29.925Z"
   },
   {
    "duration": 49,
    "start_time": "2024-12-22T22:15:52.646Z"
   },
   {
    "duration": 3574,
    "start_time": "2024-12-22T22:16:01.866Z"
   },
   {
    "duration": 7049,
    "start_time": "2024-12-22T22:16:34.085Z"
   },
   {
    "duration": 9406,
    "start_time": "2024-12-22T22:16:49.621Z"
   },
   {
    "duration": 20909,
    "start_time": "2024-12-22T22:17:09.836Z"
   },
   {
    "duration": 67,
    "start_time": "2024-12-22T22:18:04.588Z"
   },
   {
    "duration": 3,
    "start_time": "2024-12-22T22:27:47.235Z"
   },
   {
    "duration": 237,
    "start_time": "2024-12-22T22:28:19.745Z"
   },
   {
    "duration": 15,
    "start_time": "2024-12-22T22:28:23.716Z"
   },
   {
    "duration": 12,
    "start_time": "2024-12-22T22:28:25.303Z"
   },
   {
    "duration": 43,
    "start_time": "2024-12-22T22:29:37.846Z"
   },
   {
    "duration": 1952,
    "start_time": "2024-12-22T22:57:11.094Z"
   },
   {
    "duration": 4,
    "start_time": "2024-12-22T22:57:13.048Z"
   },
   {
    "duration": 23,
    "start_time": "2024-12-22T22:57:13.054Z"
   },
   {
    "duration": 6,
    "start_time": "2024-12-22T22:57:13.080Z"
   },
   {
    "duration": 8,
    "start_time": "2024-12-22T22:57:13.087Z"
   },
   {
    "duration": 5,
    "start_time": "2024-12-22T22:57:13.097Z"
   },
   {
    "duration": 7,
    "start_time": "2024-12-22T22:57:13.104Z"
   },
   {
    "duration": 655,
    "start_time": "2024-12-22T22:57:13.112Z"
   },
   {
    "duration": 4,
    "start_time": "2024-12-22T22:57:13.769Z"
   },
   {
    "duration": 10,
    "start_time": "2024-12-22T22:57:13.775Z"
   },
   {
    "duration": 23,
    "start_time": "2024-12-22T22:57:13.786Z"
   },
   {
    "duration": 13,
    "start_time": "2024-12-22T22:57:13.810Z"
   },
   {
    "duration": 4,
    "start_time": "2024-12-22T22:57:13.824Z"
   },
   {
    "duration": 5,
    "start_time": "2024-12-22T22:57:13.829Z"
   },
   {
    "duration": 10,
    "start_time": "2024-12-22T22:57:13.836Z"
   },
   {
    "duration": 4,
    "start_time": "2024-12-22T22:57:13.848Z"
   },
   {
    "duration": 3,
    "start_time": "2024-12-22T22:57:13.855Z"
   },
   {
    "duration": 51,
    "start_time": "2024-12-22T22:57:13.859Z"
   },
   {
    "duration": 12,
    "start_time": "2024-12-22T22:57:13.915Z"
   },
   {
    "duration": 84,
    "start_time": "2024-12-22T22:57:13.932Z"
   },
   {
    "duration": 21044,
    "start_time": "2024-12-22T22:57:14.018Z"
   },
   {
    "duration": 66,
    "start_time": "2024-12-22T22:57:35.064Z"
   },
   {
    "duration": 12,
    "start_time": "2024-12-22T22:57:35.132Z"
   },
   {
    "duration": 43,
    "start_time": "2024-12-22T22:57:35.145Z"
   },
   {
    "duration": 18,
    "start_time": "2024-12-22T22:58:02.239Z"
   },
   {
    "duration": 7,
    "start_time": "2024-12-22T23:03:40.487Z"
   },
   {
    "duration": 14,
    "start_time": "2024-12-22T23:08:12.191Z"
   },
   {
    "duration": 4,
    "start_time": "2024-12-22T23:08:22.696Z"
   },
   {
    "duration": 20995,
    "start_time": "2024-12-22T23:08:47.255Z"
   },
   {
    "duration": 4,
    "start_time": "2024-12-22T23:09:08.252Z"
   },
   {
    "duration": 67,
    "start_time": "2024-12-22T23:09:13.267Z"
   },
   {
    "duration": 8,
    "start_time": "2024-12-22T23:09:17.138Z"
   },
   {
    "duration": 10473,
    "start_time": "2024-12-22T23:09:25.716Z"
   },
   {
    "duration": 4,
    "start_time": "2024-12-22T23:09:36.191Z"
   },
   {
    "duration": 36,
    "start_time": "2024-12-22T23:10:12.521Z"
   },
   {
    "duration": 7,
    "start_time": "2024-12-22T23:10:15.913Z"
   },
   {
    "duration": 4,
    "start_time": "2024-12-22T23:16:36.713Z"
   },
   {
    "duration": 4,
    "start_time": "2024-12-22T23:20:32.227Z"
   },
   {
    "duration": 7,
    "start_time": "2024-12-22T23:20:33.630Z"
   },
   {
    "duration": 4075,
    "start_time": "2024-12-22T23:20:43.915Z"
   },
   {
    "duration": 3,
    "start_time": "2024-12-22T23:20:51.007Z"
   },
   {
    "duration": 4,
    "start_time": "2024-12-22T23:21:02.630Z"
   },
   {
    "duration": 6,
    "start_time": "2024-12-22T23:21:10.451Z"
   },
   {
    "duration": 1962,
    "start_time": "2024-12-22T23:31:05.394Z"
   },
   {
    "duration": 958,
    "start_time": "2024-12-22T23:31:07.359Z"
   },
   {
    "duration": 22,
    "start_time": "2024-12-22T23:31:08.319Z"
   },
   {
    "duration": 8,
    "start_time": "2024-12-22T23:31:08.344Z"
   },
   {
    "duration": 8,
    "start_time": "2024-12-22T23:31:08.353Z"
   },
   {
    "duration": 7,
    "start_time": "2024-12-22T23:31:08.363Z"
   },
   {
    "duration": 6,
    "start_time": "2024-12-22T23:31:08.372Z"
   },
   {
    "duration": 602,
    "start_time": "2024-12-22T23:31:08.380Z"
   },
   {
    "duration": 4,
    "start_time": "2024-12-22T23:31:08.983Z"
   },
   {
    "duration": 9,
    "start_time": "2024-12-22T23:31:08.990Z"
   },
   {
    "duration": 5,
    "start_time": "2024-12-22T23:31:09.002Z"
   },
   {
    "duration": 12,
    "start_time": "2024-12-22T23:31:09.009Z"
   },
   {
    "duration": 4,
    "start_time": "2024-12-22T23:31:09.023Z"
   },
   {
    "duration": 5,
    "start_time": "2024-12-22T23:31:09.029Z"
   },
   {
    "duration": 10,
    "start_time": "2024-12-22T23:31:09.036Z"
   },
   {
    "duration": 4,
    "start_time": "2024-12-22T23:31:09.048Z"
   },
   {
    "duration": 3,
    "start_time": "2024-12-22T23:31:09.053Z"
   },
   {
    "duration": 51,
    "start_time": "2024-12-22T23:31:09.058Z"
   },
   {
    "duration": 4,
    "start_time": "2024-12-22T23:31:09.113Z"
   },
   {
    "duration": 9,
    "start_time": "2024-12-22T23:31:09.118Z"
   },
   {
    "duration": 52588,
    "start_time": "2024-12-22T23:31:13.039Z"
   },
   {
    "duration": 1931,
    "start_time": "2024-12-22T23:32:37.652Z"
   },
   {
    "duration": 927,
    "start_time": "2024-12-22T23:32:39.586Z"
   },
   {
    "duration": 21,
    "start_time": "2024-12-22T23:32:40.515Z"
   },
   {
    "duration": 6,
    "start_time": "2024-12-22T23:32:40.538Z"
   },
   {
    "duration": 8,
    "start_time": "2024-12-22T23:32:40.546Z"
   },
   {
    "duration": 7,
    "start_time": "2024-12-22T23:32:40.557Z"
   },
   {
    "duration": 6,
    "start_time": "2024-12-22T23:32:40.565Z"
   },
   {
    "duration": 612,
    "start_time": "2024-12-22T23:32:40.573Z"
   },
   {
    "duration": 3,
    "start_time": "2024-12-22T23:32:41.188Z"
   },
   {
    "duration": 10,
    "start_time": "2024-12-22T23:32:41.194Z"
   },
   {
    "duration": 5,
    "start_time": "2024-12-22T23:32:41.205Z"
   },
   {
    "duration": 12,
    "start_time": "2024-12-22T23:32:41.212Z"
   },
   {
    "duration": 4,
    "start_time": "2024-12-22T23:32:41.225Z"
   },
   {
    "duration": 4,
    "start_time": "2024-12-22T23:32:41.231Z"
   },
   {
    "duration": 10,
    "start_time": "2024-12-22T23:32:41.237Z"
   },
   {
    "duration": 4,
    "start_time": "2024-12-22T23:32:41.248Z"
   },
   {
    "duration": 3,
    "start_time": "2024-12-22T23:32:41.254Z"
   },
   {
    "duration": 52,
    "start_time": "2024-12-22T23:32:41.258Z"
   },
   {
    "duration": 20,
    "start_time": "2024-12-22T23:32:41.312Z"
   },
   {
    "duration": 9,
    "start_time": "2024-12-22T23:32:41.408Z"
   },
   {
    "duration": 1962,
    "start_time": "2024-12-22T23:33:49.108Z"
   },
   {
    "duration": 937,
    "start_time": "2024-12-22T23:33:51.073Z"
   },
   {
    "duration": 21,
    "start_time": "2024-12-22T23:33:52.012Z"
   },
   {
    "duration": 6,
    "start_time": "2024-12-22T23:33:52.036Z"
   },
   {
    "duration": 8,
    "start_time": "2024-12-22T23:33:52.044Z"
   },
   {
    "duration": 7,
    "start_time": "2024-12-22T23:33:52.054Z"
   },
   {
    "duration": 5,
    "start_time": "2024-12-22T23:33:52.063Z"
   },
   {
    "duration": 599,
    "start_time": "2024-12-22T23:33:52.070Z"
   },
   {
    "duration": 4,
    "start_time": "2024-12-22T23:33:52.671Z"
   },
   {
    "duration": 9,
    "start_time": "2024-12-22T23:33:52.678Z"
   },
   {
    "duration": 6,
    "start_time": "2024-12-22T23:33:52.688Z"
   },
   {
    "duration": 16,
    "start_time": "2024-12-22T23:33:52.695Z"
   },
   {
    "duration": 4,
    "start_time": "2024-12-22T23:33:52.712Z"
   },
   {
    "duration": 5,
    "start_time": "2024-12-22T23:33:52.718Z"
   },
   {
    "duration": 11,
    "start_time": "2024-12-22T23:33:52.724Z"
   },
   {
    "duration": 4,
    "start_time": "2024-12-22T23:33:52.736Z"
   },
   {
    "duration": 3,
    "start_time": "2024-12-22T23:33:52.742Z"
   },
   {
    "duration": 8,
    "start_time": "2024-12-22T23:33:52.746Z"
   },
   {
    "duration": 63,
    "start_time": "2024-12-22T23:33:52.755Z"
   },
   {
    "duration": 90,
    "start_time": "2024-12-22T23:33:52.819Z"
   },
   {
    "duration": 57251,
    "start_time": "2024-12-22T23:33:56.142Z"
   },
   {
    "duration": 3,
    "start_time": "2024-12-22T23:35:19.599Z"
   },
   {
    "duration": 18,
    "start_time": "2024-12-22T23:36:10.052Z"
   },
   {
    "duration": 12,
    "start_time": "2024-12-22T23:36:15.830Z"
   },
   {
    "duration": 43,
    "start_time": "2024-12-22T23:36:16.314Z"
   },
   {
    "duration": 7,
    "start_time": "2024-12-22T23:36:19.033Z"
   },
   {
    "duration": 697,
    "start_time": "2024-12-22T23:43:16.965Z"
   },
   {
    "duration": 4573,
    "start_time": "2024-12-22T23:43:59.751Z"
   },
   {
    "duration": 4555,
    "start_time": "2024-12-22T23:44:19.842Z"
   },
   {
    "duration": 4622,
    "start_time": "2024-12-22T23:44:53.317Z"
   },
   {
    "duration": 4657,
    "start_time": "2024-12-22T23:45:37.137Z"
   },
   {
    "duration": 10223,
    "start_time": "2024-12-22T23:47:14.405Z"
   },
   {
    "duration": 11,
    "start_time": "2024-12-22T23:48:41.965Z"
   },
   {
    "duration": 7,
    "start_time": "2024-12-22T23:49:10.258Z"
   },
   {
    "duration": 14,
    "start_time": "2024-12-22T23:49:21.426Z"
   },
   {
    "duration": 6,
    "start_time": "2024-12-22T23:49:24.385Z"
   },
   {
    "duration": 4,
    "start_time": "2024-12-22T23:51:09.638Z"
   },
   {
    "duration": 4,
    "start_time": "2024-12-22T23:54:03.321Z"
   },
   {
    "duration": 4,
    "start_time": "2024-12-22T23:54:36.780Z"
   },
   {
    "duration": 4,
    "start_time": "2024-12-22T23:54:45.205Z"
   },
   {
    "duration": 5,
    "start_time": "2024-12-22T23:54:56.930Z"
   },
   {
    "duration": 6,
    "start_time": "2024-12-22T23:55:28.395Z"
   },
   {
    "duration": 10334,
    "start_time": "2024-12-22T23:56:08.822Z"
   },
   {
    "duration": 4,
    "start_time": "2024-12-22T23:56:53.625Z"
   },
   {
    "duration": 5,
    "start_time": "2024-12-22T23:57:19.877Z"
   },
   {
    "duration": 20,
    "start_time": "2024-12-22T23:57:46.844Z"
   },
   {
    "duration": 10,
    "start_time": "2024-12-22T23:58:14.215Z"
   },
   {
    "duration": 16,
    "start_time": "2024-12-22T23:58:40.934Z"
   },
   {
    "duration": 7,
    "start_time": "2024-12-23T00:00:20.082Z"
   },
   {
    "duration": 7,
    "start_time": "2024-12-23T00:00:26.683Z"
   },
   {
    "duration": 7,
    "start_time": "2024-12-23T00:01:06.734Z"
   },
   {
    "duration": 7,
    "start_time": "2024-12-23T00:04:33.835Z"
   },
   {
    "duration": 1962,
    "start_time": "2024-12-23T00:18:05.770Z"
   },
   {
    "duration": 974,
    "start_time": "2024-12-23T00:18:07.735Z"
   },
   {
    "duration": 21,
    "start_time": "2024-12-23T00:18:08.710Z"
   },
   {
    "duration": 7,
    "start_time": "2024-12-23T00:18:08.734Z"
   },
   {
    "duration": 9,
    "start_time": "2024-12-23T00:18:08.742Z"
   },
   {
    "duration": 7,
    "start_time": "2024-12-23T00:18:08.753Z"
   },
   {
    "duration": 5,
    "start_time": "2024-12-23T00:18:08.762Z"
   },
   {
    "duration": 604,
    "start_time": "2024-12-23T00:18:08.769Z"
   },
   {
    "duration": 4,
    "start_time": "2024-12-23T00:18:09.376Z"
   },
   {
    "duration": 10,
    "start_time": "2024-12-23T00:18:09.383Z"
   },
   {
    "duration": 6,
    "start_time": "2024-12-23T00:18:09.394Z"
   },
   {
    "duration": 17,
    "start_time": "2024-12-23T00:18:09.401Z"
   },
   {
    "duration": 3,
    "start_time": "2024-12-23T00:18:09.420Z"
   },
   {
    "duration": 4,
    "start_time": "2024-12-23T00:18:09.425Z"
   },
   {
    "duration": 10,
    "start_time": "2024-12-23T00:18:09.430Z"
   },
   {
    "duration": 4,
    "start_time": "2024-12-23T00:18:09.442Z"
   },
   {
    "duration": 4,
    "start_time": "2024-12-23T00:18:09.447Z"
   },
   {
    "duration": 6,
    "start_time": "2024-12-23T00:18:09.453Z"
   },
   {
    "duration": 54,
    "start_time": "2024-12-23T00:18:09.461Z"
   },
   {
    "duration": 9,
    "start_time": "2024-12-23T00:18:09.517Z"
   },
   {
    "duration": 663,
    "start_time": "2024-12-23T00:18:09.528Z"
   },
   {
    "duration": 0,
    "start_time": "2024-12-23T00:18:10.193Z"
   },
   {
    "duration": 0,
    "start_time": "2024-12-23T00:18:10.194Z"
   },
   {
    "duration": 0,
    "start_time": "2024-12-23T00:18:10.196Z"
   },
   {
    "duration": 0,
    "start_time": "2024-12-23T00:18:10.197Z"
   },
   {
    "duration": 0,
    "start_time": "2024-12-23T00:18:10.199Z"
   },
   {
    "duration": 0,
    "start_time": "2024-12-23T00:18:10.208Z"
   },
   {
    "duration": 0,
    "start_time": "2024-12-23T00:18:10.210Z"
   },
   {
    "duration": 56791,
    "start_time": "2024-12-23T00:18:43.997Z"
   },
   {
    "duration": 10160,
    "start_time": "2024-12-23T00:19:40.790Z"
   },
   {
    "duration": 5,
    "start_time": "2024-12-23T00:19:50.952Z"
   },
   {
    "duration": 17,
    "start_time": "2024-12-23T00:19:50.959Z"
   },
   {
    "duration": 4640,
    "start_time": "2024-12-23T00:19:50.978Z"
   },
   {
    "duration": 10,
    "start_time": "2024-12-23T00:19:55.620Z"
   },
   {
    "duration": 16,
    "start_time": "2024-12-23T00:19:55.631Z"
   },
   {
    "duration": 6,
    "start_time": "2024-12-23T00:19:55.648Z"
   },
   {
    "duration": 2,
    "start_time": "2024-12-23T00:46:19.243Z"
   },
   {
    "duration": 4056,
    "start_time": "2024-12-23T16:13:58.503Z"
   },
   {
    "duration": 3195,
    "start_time": "2024-12-23T16:14:02.562Z"
   },
   {
    "duration": 0,
    "start_time": "2024-12-23T16:14:05.759Z"
   },
   {
    "duration": 0,
    "start_time": "2024-12-23T16:14:05.761Z"
   },
   {
    "duration": 0,
    "start_time": "2024-12-23T16:14:05.763Z"
   },
   {
    "duration": 0,
    "start_time": "2024-12-23T16:14:05.770Z"
   },
   {
    "duration": 0,
    "start_time": "2024-12-23T16:14:05.771Z"
   },
   {
    "duration": 0,
    "start_time": "2024-12-23T16:14:05.772Z"
   },
   {
    "duration": 0,
    "start_time": "2024-12-23T16:14:05.774Z"
   },
   {
    "duration": 0,
    "start_time": "2024-12-23T16:14:05.775Z"
   },
   {
    "duration": 0,
    "start_time": "2024-12-23T16:14:05.776Z"
   },
   {
    "duration": 0,
    "start_time": "2024-12-23T16:14:05.777Z"
   },
   {
    "duration": 2235,
    "start_time": "2024-12-23T16:14:35.172Z"
   },
   {
    "duration": 1038,
    "start_time": "2024-12-23T16:14:37.410Z"
   },
   {
    "duration": 28,
    "start_time": "2024-12-23T16:14:38.450Z"
   },
   {
    "duration": 9,
    "start_time": "2024-12-23T16:14:38.481Z"
   },
   {
    "duration": 10,
    "start_time": "2024-12-23T16:14:38.492Z"
   },
   {
    "duration": 9,
    "start_time": "2024-12-23T16:14:38.504Z"
   },
   {
    "duration": 7,
    "start_time": "2024-12-23T16:14:38.515Z"
   },
   {
    "duration": 640,
    "start_time": "2024-12-23T16:14:38.523Z"
   },
   {
    "duration": 4,
    "start_time": "2024-12-23T16:14:39.166Z"
   },
   {
    "duration": 12,
    "start_time": "2024-12-23T16:14:39.172Z"
   },
   {
    "duration": 7,
    "start_time": "2024-12-23T16:14:39.186Z"
   },
   {
    "duration": 14,
    "start_time": "2024-12-23T16:15:06.379Z"
   },
   {
    "duration": 4,
    "start_time": "2024-12-23T16:15:09.678Z"
   },
   {
    "duration": 4,
    "start_time": "2024-12-23T16:15:40.940Z"
   },
   {
    "duration": 2146,
    "start_time": "2024-12-23T16:18:03.545Z"
   },
   {
    "duration": 1064,
    "start_time": "2024-12-23T16:18:05.695Z"
   },
   {
    "duration": 37,
    "start_time": "2024-12-23T16:18:06.760Z"
   },
   {
    "duration": 8,
    "start_time": "2024-12-23T16:18:06.799Z"
   },
   {
    "duration": 9,
    "start_time": "2024-12-23T16:18:06.808Z"
   },
   {
    "duration": 10,
    "start_time": "2024-12-23T16:18:06.819Z"
   },
   {
    "duration": 6,
    "start_time": "2024-12-23T16:18:06.831Z"
   },
   {
    "duration": 649,
    "start_time": "2024-12-23T16:18:06.840Z"
   },
   {
    "duration": 4,
    "start_time": "2024-12-23T16:18:07.491Z"
   },
   {
    "duration": 10,
    "start_time": "2024-12-23T16:18:07.498Z"
   },
   {
    "duration": 6,
    "start_time": "2024-12-23T16:18:07.510Z"
   },
   {
    "duration": 13,
    "start_time": "2024-12-23T16:18:07.518Z"
   },
   {
    "duration": 4,
    "start_time": "2024-12-23T16:18:07.533Z"
   },
   {
    "duration": 4,
    "start_time": "2024-12-23T16:20:11.116Z"
   },
   {
    "duration": 6,
    "start_time": "2024-12-23T16:20:46.439Z"
   },
   {
    "duration": 506,
    "start_time": "2024-12-23T16:20:52.843Z"
   },
   {
    "duration": 4,
    "start_time": "2024-12-23T16:21:35.628Z"
   },
   {
    "duration": 6,
    "start_time": "2024-12-23T16:21:52.128Z"
   },
   {
    "duration": 6,
    "start_time": "2024-12-23T16:23:41.995Z"
   },
   {
    "duration": 12,
    "start_time": "2024-12-23T16:23:50.380Z"
   },
   {
    "duration": 4,
    "start_time": "2024-12-23T16:23:56.583Z"
   },
   {
    "duration": 5,
    "start_time": "2024-12-23T16:24:27.420Z"
   },
   {
    "duration": 13,
    "start_time": "2024-12-23T16:24:43.455Z"
   },
   {
    "duration": 5,
    "start_time": "2024-12-23T16:24:50.773Z"
   },
   {
    "duration": 10,
    "start_time": "2024-12-23T16:24:59.264Z"
   },
   {
    "duration": 54223,
    "start_time": "2024-12-23T16:25:16.541Z"
   },
   {
    "duration": 6880,
    "start_time": "2024-12-23T16:26:26.922Z"
   },
   {
    "duration": 5,
    "start_time": "2024-12-23T16:26:33.804Z"
   },
   {
    "duration": 5,
    "start_time": "2024-12-23T16:27:08.373Z"
   },
   {
    "duration": 5,
    "start_time": "2024-12-23T16:27:24.994Z"
   },
   {
    "duration": 1254,
    "start_time": "2024-12-23T16:27:54.923Z"
   },
   {
    "duration": 10,
    "start_time": "2024-12-23T16:28:26.190Z"
   },
   {
    "duration": 15,
    "start_time": "2024-12-23T16:28:31.571Z"
   },
   {
    "duration": 4,
    "start_time": "2024-12-23T16:29:39.065Z"
   },
   {
    "duration": 5,
    "start_time": "2024-12-23T16:30:06.762Z"
   },
   {
    "duration": 5,
    "start_time": "2024-12-23T16:30:29.447Z"
   },
   {
    "duration": 6,
    "start_time": "2024-12-23T16:30:47.911Z"
   },
   {
    "duration": 8,
    "start_time": "2024-12-23T16:31:08.136Z"
   },
   {
    "duration": 6,
    "start_time": "2024-12-23T16:31:43.809Z"
   },
   {
    "duration": 15,
    "start_time": "2024-12-23T16:31:45.968Z"
   },
   {
    "duration": 7,
    "start_time": "2024-12-23T16:31:57.214Z"
   },
   {
    "duration": 11,
    "start_time": "2024-12-23T16:31:58.733Z"
   },
   {
    "duration": 9,
    "start_time": "2024-12-23T16:32:02.108Z"
   },
   {
    "duration": 3793,
    "start_time": "2024-12-24T01:23:08.354Z"
   },
   {
    "duration": 2957,
    "start_time": "2024-12-24T01:23:12.149Z"
   },
   {
    "duration": 0,
    "start_time": "2024-12-24T01:23:15.109Z"
   },
   {
    "duration": 0,
    "start_time": "2024-12-24T01:23:15.110Z"
   },
   {
    "duration": 0,
    "start_time": "2024-12-24T01:23:15.112Z"
   },
   {
    "duration": 0,
    "start_time": "2024-12-24T01:23:15.114Z"
   },
   {
    "duration": 0,
    "start_time": "2024-12-24T01:23:15.115Z"
   },
   {
    "duration": 0,
    "start_time": "2024-12-24T01:23:15.116Z"
   },
   {
    "duration": 0,
    "start_time": "2024-12-24T01:23:15.117Z"
   },
   {
    "duration": 0,
    "start_time": "2024-12-24T01:23:15.118Z"
   },
   {
    "duration": 0,
    "start_time": "2024-12-24T01:23:15.131Z"
   },
   {
    "duration": 0,
    "start_time": "2024-12-24T01:23:15.132Z"
   },
   {
    "duration": 0,
    "start_time": "2024-12-24T01:23:15.133Z"
   },
   {
    "duration": 0,
    "start_time": "2024-12-24T01:23:15.134Z"
   },
   {
    "duration": 0,
    "start_time": "2024-12-24T01:23:15.135Z"
   },
   {
    "duration": 0,
    "start_time": "2024-12-24T01:23:15.136Z"
   },
   {
    "duration": 0,
    "start_time": "2024-12-24T01:23:15.137Z"
   },
   {
    "duration": 0,
    "start_time": "2024-12-24T01:23:15.138Z"
   },
   {
    "duration": 0,
    "start_time": "2024-12-24T01:23:15.139Z"
   },
   {
    "duration": 0,
    "start_time": "2024-12-24T01:23:15.140Z"
   },
   {
    "duration": 0,
    "start_time": "2024-12-24T01:23:15.141Z"
   },
   {
    "duration": 0,
    "start_time": "2024-12-24T01:23:15.142Z"
   },
   {
    "duration": 0,
    "start_time": "2024-12-24T01:23:15.143Z"
   },
   {
    "duration": 0,
    "start_time": "2024-12-24T01:23:15.144Z"
   },
   {
    "duration": 0,
    "start_time": "2024-12-24T01:23:15.145Z"
   },
   {
    "duration": 0,
    "start_time": "2024-12-24T01:23:15.146Z"
   },
   {
    "duration": 0,
    "start_time": "2024-12-24T01:23:15.147Z"
   },
   {
    "duration": 0,
    "start_time": "2024-12-24T01:23:15.148Z"
   },
   {
    "duration": 0,
    "start_time": "2024-12-24T01:23:15.149Z"
   },
   {
    "duration": 2028,
    "start_time": "2024-12-24T01:23:26.345Z"
   },
   {
    "duration": 982,
    "start_time": "2024-12-24T01:23:28.375Z"
   },
   {
    "duration": 31,
    "start_time": "2024-12-24T01:23:29.359Z"
   },
   {
    "duration": 8,
    "start_time": "2024-12-24T01:23:29.393Z"
   },
   {
    "duration": 11,
    "start_time": "2024-12-24T01:23:29.402Z"
   },
   {
    "duration": 16,
    "start_time": "2024-12-24T01:23:29.415Z"
   },
   {
    "duration": 7,
    "start_time": "2024-12-24T01:23:29.433Z"
   },
   {
    "duration": 599,
    "start_time": "2024-12-24T01:23:29.441Z"
   },
   {
    "duration": 4,
    "start_time": "2024-12-24T01:23:30.042Z"
   },
   {
    "duration": 10,
    "start_time": "2024-12-24T01:23:30.050Z"
   },
   {
    "duration": 7,
    "start_time": "2024-12-24T01:23:30.061Z"
   },
   {
    "duration": 12,
    "start_time": "2024-12-24T01:23:30.070Z"
   },
   {
    "duration": 4,
    "start_time": "2024-12-24T01:23:30.084Z"
   },
   {
    "duration": 4,
    "start_time": "2024-12-24T01:23:30.090Z"
   },
   {
    "duration": 6,
    "start_time": "2024-12-24T01:23:30.096Z"
   },
   {
    "duration": 44,
    "start_time": "2024-12-24T01:23:30.104Z"
   },
   {
    "duration": 5,
    "start_time": "2024-12-24T01:23:30.150Z"
   },
   {
    "duration": 4,
    "start_time": "2024-12-24T01:23:30.157Z"
   },
   {
    "duration": 8,
    "start_time": "2024-12-24T01:23:30.163Z"
   },
   {
    "duration": 6,
    "start_time": "2024-12-24T01:23:30.173Z"
   },
   {
    "duration": 62,
    "start_time": "2024-12-24T01:23:30.180Z"
   },
   {
    "duration": 52461,
    "start_time": "2024-12-24T01:23:30.244Z"
   },
   {
    "duration": 6256,
    "start_time": "2024-12-24T01:24:22.707Z"
   },
   {
    "duration": 4,
    "start_time": "2024-12-24T01:24:28.965Z"
   },
   {
    "duration": 5,
    "start_time": "2024-12-24T01:24:28.971Z"
   },
   {
    "duration": 1456,
    "start_time": "2024-12-24T01:24:28.978Z"
   },
   {
    "duration": 6,
    "start_time": "2024-12-24T01:24:30.436Z"
   },
   {
    "duration": 8,
    "start_time": "2024-12-24T01:24:30.445Z"
   },
   {
    "duration": 7,
    "start_time": "2024-12-24T01:24:30.455Z"
   },
   {
    "duration": 250,
    "start_time": "2024-12-24T01:28:41.900Z"
   },
   {
    "duration": 96051,
    "start_time": "2024-12-24T01:30:17.396Z"
   },
   {
    "duration": 377272,
    "start_time": "2024-12-24T01:32:14.033Z"
   },
   {
    "duration": 199322,
    "start_time": "2024-12-24T01:39:15.617Z"
   },
   {
    "duration": 8,
    "start_time": "2024-12-24T01:46:27.431Z"
   },
   {
    "duration": 376055,
    "start_time": "2024-12-24T01:46:33.177Z"
   },
   {
    "duration": 394,
    "start_time": "2024-12-24T01:55:16.986Z"
   },
   {
    "duration": 2158,
    "start_time": "2024-12-24T01:58:36.545Z"
   },
   {
    "duration": 0,
    "start_time": "2024-12-24T02:01:13.556Z"
   },
   {
    "duration": 317911,
    "start_time": "2024-12-24T02:01:18.786Z"
   },
   {
    "duration": 0,
    "start_time": "2024-12-24T02:13:47.331Z"
   },
   {
    "duration": 79973,
    "start_time": "2024-12-24T02:13:49.374Z"
   },
   {
    "duration": 432237,
    "start_time": "2024-12-24T02:15:20.351Z"
   },
   {
    "duration": 719,
    "start_time": "2024-12-24T02:26:09.172Z"
   },
   {
    "duration": 587967,
    "start_time": "2024-12-24T02:26:28.982Z"
   },
   {
    "duration": 8,
    "start_time": "2024-12-24T02:41:03.299Z"
   },
   {
    "duration": 1982,
    "start_time": "2024-12-24T03:02:59.733Z"
   },
   {
    "duration": 3,
    "start_time": "2024-12-24T03:03:01.718Z"
   },
   {
    "duration": 23,
    "start_time": "2024-12-24T03:03:01.722Z"
   },
   {
    "duration": 7,
    "start_time": "2024-12-24T03:03:01.747Z"
   },
   {
    "duration": 8,
    "start_time": "2024-12-24T03:03:01.756Z"
   },
   {
    "duration": 6,
    "start_time": "2024-12-24T03:03:01.766Z"
   },
   {
    "duration": 7,
    "start_time": "2024-12-24T03:03:01.773Z"
   },
   {
    "duration": 713,
    "start_time": "2024-12-24T03:03:01.781Z"
   },
   {
    "duration": 4,
    "start_time": "2024-12-24T03:03:02.496Z"
   },
   {
    "duration": 9,
    "start_time": "2024-12-24T03:03:02.503Z"
   },
   {
    "duration": 19,
    "start_time": "2024-12-24T03:03:02.513Z"
   },
   {
    "duration": 12,
    "start_time": "2024-12-24T03:03:02.534Z"
   },
   {
    "duration": 4,
    "start_time": "2024-12-24T03:03:02.549Z"
   },
   {
    "duration": 4,
    "start_time": "2024-12-24T03:03:02.555Z"
   },
   {
    "duration": 6,
    "start_time": "2024-12-24T03:03:02.560Z"
   },
   {
    "duration": 11,
    "start_time": "2024-12-24T03:03:02.568Z"
   },
   {
    "duration": 5,
    "start_time": "2024-12-24T03:03:02.581Z"
   },
   {
    "duration": 5,
    "start_time": "2024-12-24T03:03:02.587Z"
   },
   {
    "duration": 8,
    "start_time": "2024-12-24T03:03:02.632Z"
   },
   {
    "duration": 6,
    "start_time": "2024-12-24T03:03:02.642Z"
   },
   {
    "duration": 0,
    "start_time": "2024-12-24T03:11:56.522Z"
   },
   {
    "duration": 310161,
    "start_time": "2024-12-24T03:11:56.868Z"
   },
   {
    "duration": 170578,
    "start_time": "2024-12-24T03:21:40.971Z"
   },
   {
    "duration": 16,
    "start_time": "2024-12-24T03:25:49.348Z"
   },
   {
    "duration": 4070,
    "start_time": "2024-12-24T03:25:57.229Z"
   },
   {
    "duration": 4,
    "start_time": "2024-12-24T03:26:07.004Z"
   },
   {
    "duration": 4,
    "start_time": "2024-12-24T03:26:07.923Z"
   },
   {
    "duration": 7,
    "start_time": "2024-12-24T03:26:16.296Z"
   },
   {
    "duration": 2223,
    "start_time": "2024-12-24T03:29:00.143Z"
   },
   {
    "duration": 17,
    "start_time": "2024-12-24T03:29:33.200Z"
   },
   {
    "duration": 10,
    "start_time": "2024-12-24T03:29:47.010Z"
   },
   {
    "duration": 8,
    "start_time": "2024-12-24T03:29:49.140Z"
   },
   {
    "duration": 7,
    "start_time": "2024-12-24T03:29:51.666Z"
   },
   {
    "duration": 3056,
    "start_time": "2024-12-24T03:30:08.676Z"
   },
   {
    "duration": 9535,
    "start_time": "2024-12-24T03:33:27.717Z"
   },
   {
    "duration": 9538,
    "start_time": "2024-12-24T03:34:19.413Z"
   },
   {
    "duration": 12,
    "start_time": "2024-12-24T03:34:43.350Z"
   },
   {
    "duration": 7,
    "start_time": "2024-12-24T03:34:45.426Z"
   },
   {
    "duration": 8,
    "start_time": "2024-12-24T03:34:47.522Z"
   },
   {
    "duration": 3865,
    "start_time": "2025-01-07T18:23:43.443Z"
   },
   {
    "duration": 3128,
    "start_time": "2025-01-07T18:23:47.311Z"
   },
   {
    "duration": 0,
    "start_time": "2025-01-07T18:23:50.441Z"
   },
   {
    "duration": 0,
    "start_time": "2025-01-07T18:23:50.443Z"
   },
   {
    "duration": 0,
    "start_time": "2025-01-07T18:23:50.444Z"
   },
   {
    "duration": 0,
    "start_time": "2025-01-07T18:23:50.444Z"
   },
   {
    "duration": 0,
    "start_time": "2025-01-07T18:23:50.445Z"
   },
   {
    "duration": 0,
    "start_time": "2025-01-07T18:23:50.446Z"
   },
   {
    "duration": 0,
    "start_time": "2025-01-07T18:23:50.448Z"
   },
   {
    "duration": 0,
    "start_time": "2025-01-07T18:23:50.449Z"
   },
   {
    "duration": 0,
    "start_time": "2025-01-07T18:23:50.451Z"
   },
   {
    "duration": 0,
    "start_time": "2025-01-07T18:23:50.452Z"
   },
   {
    "duration": 0,
    "start_time": "2025-01-07T18:23:50.454Z"
   },
   {
    "duration": 0,
    "start_time": "2025-01-07T18:23:50.454Z"
   },
   {
    "duration": 0,
    "start_time": "2025-01-07T18:23:50.456Z"
   },
   {
    "duration": 0,
    "start_time": "2025-01-07T18:23:50.457Z"
   },
   {
    "duration": 0,
    "start_time": "2025-01-07T18:23:50.458Z"
   },
   {
    "duration": 0,
    "start_time": "2025-01-07T18:23:50.460Z"
   },
   {
    "duration": 0,
    "start_time": "2025-01-07T18:23:50.461Z"
   },
   {
    "duration": 0,
    "start_time": "2025-01-07T18:23:50.463Z"
   },
   {
    "duration": 0,
    "start_time": "2025-01-07T18:23:50.466Z"
   },
   {
    "duration": 0,
    "start_time": "2025-01-07T18:23:50.467Z"
   },
   {
    "duration": 0,
    "start_time": "2025-01-07T18:23:50.504Z"
   },
   {
    "duration": 0,
    "start_time": "2025-01-07T18:23:50.506Z"
   },
   {
    "duration": 0,
    "start_time": "2025-01-07T18:23:50.507Z"
   },
   {
    "duration": 0,
    "start_time": "2025-01-07T18:23:50.509Z"
   },
   {
    "duration": 0,
    "start_time": "2025-01-07T18:23:50.510Z"
   },
   {
    "duration": 0,
    "start_time": "2025-01-07T18:23:50.511Z"
   },
   {
    "duration": 0,
    "start_time": "2025-01-07T18:23:50.512Z"
   },
   {
    "duration": 1896,
    "start_time": "2025-01-07T18:24:15.450Z"
   },
   {
    "duration": 923,
    "start_time": "2025-01-07T18:24:17.349Z"
   },
   {
    "duration": 34,
    "start_time": "2025-01-07T18:24:18.274Z"
   },
   {
    "duration": 7,
    "start_time": "2025-01-07T18:24:18.311Z"
   },
   {
    "duration": 11,
    "start_time": "2025-01-07T18:24:18.320Z"
   },
   {
    "duration": 7,
    "start_time": "2025-01-07T18:24:18.333Z"
   },
   {
    "duration": 7,
    "start_time": "2025-01-07T18:24:18.342Z"
   },
   {
    "duration": 611,
    "start_time": "2025-01-07T18:24:18.351Z"
   },
   {
    "duration": 4,
    "start_time": "2025-01-07T18:24:18.964Z"
   },
   {
    "duration": 9,
    "start_time": "2025-01-07T18:24:18.972Z"
   },
   {
    "duration": 6,
    "start_time": "2025-01-07T18:24:18.983Z"
   },
   {
    "duration": 21,
    "start_time": "2025-01-07T18:24:18.990Z"
   },
   {
    "duration": 4,
    "start_time": "2025-01-07T18:24:19.012Z"
   },
   {
    "duration": 4,
    "start_time": "2025-01-07T18:24:19.018Z"
   },
   {
    "duration": 6,
    "start_time": "2025-01-07T18:24:19.025Z"
   },
   {
    "duration": 19,
    "start_time": "2025-01-07T18:24:19.032Z"
   },
   {
    "duration": 4,
    "start_time": "2025-01-07T18:24:19.053Z"
   },
   {
    "duration": 5,
    "start_time": "2025-01-07T18:24:19.059Z"
   },
   {
    "duration": 42,
    "start_time": "2025-01-07T18:24:19.065Z"
   },
   {
    "duration": 7,
    "start_time": "2025-01-07T18:24:19.109Z"
   },
   {
    "duration": 11,
    "start_time": "2025-01-07T18:24:19.117Z"
   },
   {
    "duration": 169553,
    "start_time": "2025-01-07T18:24:19.129Z"
   },
   {
    "duration": 4047,
    "start_time": "2025-01-07T18:27:08.685Z"
   },
   {
    "duration": 4,
    "start_time": "2025-01-07T18:27:12.734Z"
   },
   {
    "duration": 4,
    "start_time": "2025-01-07T18:27:12.740Z"
   },
   {
    "duration": 9572,
    "start_time": "2025-01-07T18:27:12.746Z"
   },
   {
    "duration": 12,
    "start_time": "2025-01-07T18:27:22.320Z"
   },
   {
    "duration": 7,
    "start_time": "2025-01-07T18:27:22.335Z"
   },
   {
    "duration": 6,
    "start_time": "2025-01-07T18:27:22.343Z"
   },
   {
    "duration": 45,
    "start_time": "2025-01-07T18:58:06.048Z"
   },
   {
    "duration": 848,
    "start_time": "2025-01-07T19:31:26.492Z"
   },
   {
    "duration": 0,
    "start_time": "2025-01-07T19:31:27.342Z"
   },
   {
    "duration": 82,
    "start_time": "2025-01-07T19:32:43.557Z"
   },
   {
    "duration": 80,
    "start_time": "2025-01-07T19:33:23.650Z"
   },
   {
    "duration": 5,
    "start_time": "2025-01-07T19:34:07.477Z"
   },
   {
    "duration": 598,
    "start_time": "2025-01-07T19:34:09.768Z"
   },
   {
    "duration": 9,
    "start_time": "2025-01-07T19:34:34.317Z"
   },
   {
    "duration": 521,
    "start_time": "2025-01-07T19:34:35.851Z"
   },
   {
    "duration": 13,
    "start_time": "2025-01-07T19:34:53.840Z"
   },
   {
    "duration": 520,
    "start_time": "2025-01-07T19:34:55.543Z"
   },
   {
    "duration": 6,
    "start_time": "2025-01-07T19:35:08.620Z"
   },
   {
    "duration": 377,
    "start_time": "2025-01-07T19:35:09.268Z"
   },
   {
    "duration": 6,
    "start_time": "2025-01-07T19:35:51.635Z"
   },
   {
    "duration": 439,
    "start_time": "2025-01-07T19:35:52.133Z"
   },
   {
    "duration": 318,
    "start_time": "2025-01-07T19:45:13.020Z"
   },
   {
    "duration": 154,
    "start_time": "2025-01-07T19:48:03.522Z"
   },
   {
    "duration": 48,
    "start_time": "2025-01-07T19:48:39.057Z"
   },
   {
    "duration": 155,
    "start_time": "2025-01-07T20:00:56.221Z"
   },
   {
    "duration": 1979,
    "start_time": "2025-01-07T20:01:00.346Z"
   },
   {
    "duration": 1367,
    "start_time": "2025-01-07T20:01:02.327Z"
   },
   {
    "duration": 30,
    "start_time": "2025-01-07T20:01:03.695Z"
   },
   {
    "duration": 7,
    "start_time": "2025-01-07T20:01:03.729Z"
   },
   {
    "duration": 7,
    "start_time": "2025-01-07T20:01:03.738Z"
   },
   {
    "duration": 7,
    "start_time": "2025-01-07T20:01:03.747Z"
   },
   {
    "duration": 6,
    "start_time": "2025-01-07T20:01:03.755Z"
   },
   {
    "duration": 612,
    "start_time": "2025-01-07T20:01:03.762Z"
   },
   {
    "duration": 6,
    "start_time": "2025-01-07T20:01:04.376Z"
   },
   {
    "duration": 484,
    "start_time": "2025-01-07T20:01:04.386Z"
   },
   {
    "duration": 4,
    "start_time": "2025-01-07T20:01:04.872Z"
   },
   {
    "duration": 10,
    "start_time": "2025-01-07T20:01:04.878Z"
   },
   {
    "duration": 20,
    "start_time": "2025-01-07T20:01:04.889Z"
   },
   {
    "duration": 13,
    "start_time": "2025-01-07T20:01:04.911Z"
   },
   {
    "duration": 4,
    "start_time": "2025-01-07T20:01:04.926Z"
   },
   {
    "duration": 4,
    "start_time": "2025-01-07T20:01:04.931Z"
   },
   {
    "duration": 6,
    "start_time": "2025-01-07T20:01:04.936Z"
   },
   {
    "duration": 11,
    "start_time": "2025-01-07T20:01:04.944Z"
   },
   {
    "duration": 5,
    "start_time": "2025-01-07T20:01:04.956Z"
   },
   {
    "duration": 4,
    "start_time": "2025-01-07T20:01:04.962Z"
   },
   {
    "duration": 42,
    "start_time": "2025-01-07T20:01:04.968Z"
   },
   {
    "duration": 5,
    "start_time": "2025-01-07T20:01:05.011Z"
   },
   {
    "duration": 10,
    "start_time": "2025-01-07T20:01:05.018Z"
   },
   {
    "duration": 170412,
    "start_time": "2025-01-07T20:01:05.030Z"
   },
   {
    "duration": 4102,
    "start_time": "2025-01-07T20:03:55.444Z"
   },
   {
    "duration": 3,
    "start_time": "2025-01-07T20:03:59.549Z"
   },
   {
    "duration": 4,
    "start_time": "2025-01-07T20:03:59.555Z"
   },
   {
    "duration": 9342,
    "start_time": "2025-01-07T20:03:59.563Z"
   },
   {
    "duration": 12,
    "start_time": "2025-01-07T20:04:08.907Z"
   },
   {
    "duration": 7,
    "start_time": "2025-01-07T20:04:08.921Z"
   },
   {
    "duration": 1501,
    "start_time": "2025-01-07T20:16:48.895Z"
   },
   {
    "duration": 17,
    "start_time": "2025-01-07T20:16:58.598Z"
   },
   {
    "duration": 1994,
    "start_time": "2025-01-07T20:17:29.407Z"
   },
   {
    "duration": 1176,
    "start_time": "2025-01-07T20:17:31.404Z"
   },
   {
    "duration": 25,
    "start_time": "2025-01-07T20:17:32.582Z"
   },
   {
    "duration": 11,
    "start_time": "2025-01-07T20:17:32.608Z"
   },
   {
    "duration": 9,
    "start_time": "2025-01-07T20:17:32.622Z"
   },
   {
    "duration": 14,
    "start_time": "2025-01-07T20:17:32.632Z"
   },
   {
    "duration": 6,
    "start_time": "2025-01-07T20:17:32.648Z"
   },
   {
    "duration": 637,
    "start_time": "2025-01-07T20:17:32.657Z"
   },
   {
    "duration": 6,
    "start_time": "2025-01-07T20:17:33.296Z"
   },
   {
    "duration": 468,
    "start_time": "2025-01-07T20:17:33.305Z"
   },
   {
    "duration": 5,
    "start_time": "2025-01-07T20:17:33.775Z"
   },
   {
    "duration": 9,
    "start_time": "2025-01-07T20:17:33.781Z"
   },
   {
    "duration": 6,
    "start_time": "2025-01-07T20:17:33.805Z"
   },
   {
    "duration": 12,
    "start_time": "2025-01-07T20:17:33.814Z"
   },
   {
    "duration": 4,
    "start_time": "2025-01-07T20:17:33.828Z"
   },
   {
    "duration": 3,
    "start_time": "2025-01-07T20:17:33.833Z"
   },
   {
    "duration": 6,
    "start_time": "2025-01-07T20:17:33.838Z"
   },
   {
    "duration": 10,
    "start_time": "2025-01-07T20:17:33.846Z"
   },
   {
    "duration": 4,
    "start_time": "2025-01-07T20:17:33.858Z"
   },
   {
    "duration": 2151,
    "start_time": "2025-01-07T20:22:41.354Z"
   },
   {
    "duration": 1445,
    "start_time": "2025-01-07T20:22:43.507Z"
   },
   {
    "duration": 26,
    "start_time": "2025-01-07T20:22:44.954Z"
   },
   {
    "duration": 7,
    "start_time": "2025-01-07T20:22:44.982Z"
   },
   {
    "duration": 22,
    "start_time": "2025-01-07T20:22:44.992Z"
   },
   {
    "duration": 8,
    "start_time": "2025-01-07T20:22:45.016Z"
   },
   {
    "duration": 6,
    "start_time": "2025-01-07T20:22:45.027Z"
   },
   {
    "duration": 655,
    "start_time": "2025-01-07T20:22:45.034Z"
   },
   {
    "duration": 8,
    "start_time": "2025-01-07T20:22:45.692Z"
   },
   {
    "duration": 480,
    "start_time": "2025-01-07T20:22:45.702Z"
   },
   {
    "duration": 3,
    "start_time": "2025-01-07T20:22:46.184Z"
   },
   {
    "duration": 23,
    "start_time": "2025-01-07T20:22:46.189Z"
   },
   {
    "duration": 6,
    "start_time": "2025-01-07T20:22:46.213Z"
   },
   {
    "duration": 12,
    "start_time": "2025-01-07T20:22:46.223Z"
   },
   {
    "duration": 4,
    "start_time": "2025-01-07T20:22:46.236Z"
   },
   {
    "duration": 3,
    "start_time": "2025-01-07T20:22:46.243Z"
   },
   {
    "duration": 5,
    "start_time": "2025-01-07T20:22:46.247Z"
   },
   {
    "duration": 9,
    "start_time": "2025-01-07T20:22:46.254Z"
   },
   {
    "duration": 5,
    "start_time": "2025-01-07T20:22:46.264Z"
   },
   {
    "duration": 1223,
    "start_time": "2025-01-07T20:25:21.533Z"
   },
   {
    "duration": 3,
    "start_time": "2025-01-07T20:25:24.190Z"
   },
   {
    "duration": 1963,
    "start_time": "2025-01-07T20:25:38.863Z"
   },
   {
    "duration": 4,
    "start_time": "2025-01-07T20:25:40.828Z"
   },
   {
    "duration": 26,
    "start_time": "2025-01-07T20:25:40.833Z"
   },
   {
    "duration": 7,
    "start_time": "2025-01-07T20:25:40.862Z"
   },
   {
    "duration": 9,
    "start_time": "2025-01-07T20:25:40.871Z"
   },
   {
    "duration": 8,
    "start_time": "2025-01-07T20:25:40.882Z"
   },
   {
    "duration": 14,
    "start_time": "2025-01-07T20:25:40.891Z"
   },
   {
    "duration": 595,
    "start_time": "2025-01-07T20:25:40.906Z"
   },
   {
    "duration": 6,
    "start_time": "2025-01-07T20:25:41.503Z"
   },
   {
    "duration": 409,
    "start_time": "2025-01-07T20:25:41.512Z"
   },
   {
    "duration": 4,
    "start_time": "2025-01-07T20:25:41.922Z"
   },
   {
    "duration": 9,
    "start_time": "2025-01-07T20:25:41.928Z"
   },
   {
    "duration": 5,
    "start_time": "2025-01-07T20:25:41.939Z"
   },
   {
    "duration": 11,
    "start_time": "2025-01-07T20:25:41.946Z"
   },
   {
    "duration": 4,
    "start_time": "2025-01-07T20:25:41.959Z"
   },
   {
    "duration": 3,
    "start_time": "2025-01-07T20:25:41.964Z"
   },
   {
    "duration": 40,
    "start_time": "2025-01-07T20:25:41.969Z"
   },
   {
    "duration": 11,
    "start_time": "2025-01-07T20:25:42.010Z"
   },
   {
    "duration": 4,
    "start_time": "2025-01-07T20:25:42.022Z"
   },
   {
    "duration": 162,
    "start_time": "2025-01-07T20:49:26.257Z"
   },
   {
    "duration": 2169,
    "start_time": "2025-01-07T20:49:50.824Z"
   },
   {
    "duration": 1192,
    "start_time": "2025-01-07T20:49:52.996Z"
   },
   {
    "duration": 24,
    "start_time": "2025-01-07T20:49:54.190Z"
   },
   {
    "duration": 7,
    "start_time": "2025-01-07T20:49:54.216Z"
   },
   {
    "duration": 8,
    "start_time": "2025-01-07T20:49:54.224Z"
   },
   {
    "duration": 7,
    "start_time": "2025-01-07T20:49:54.235Z"
   },
   {
    "duration": 5,
    "start_time": "2025-01-07T20:49:54.244Z"
   },
   {
    "duration": 607,
    "start_time": "2025-01-07T20:49:54.251Z"
   },
   {
    "duration": 5,
    "start_time": "2025-01-07T20:49:54.860Z"
   },
   {
    "duration": 394,
    "start_time": "2025-01-07T20:49:54.868Z"
   },
   {
    "duration": 4,
    "start_time": "2025-01-07T20:49:55.264Z"
   },
   {
    "duration": 9,
    "start_time": "2025-01-07T20:49:55.270Z"
   },
   {
    "duration": 24,
    "start_time": "2025-01-07T20:49:55.281Z"
   },
   {
    "duration": 11,
    "start_time": "2025-01-07T20:49:55.306Z"
   },
   {
    "duration": 73,
    "start_time": "2025-01-07T20:49:55.319Z"
   },
   {
    "duration": 4,
    "start_time": "2025-01-07T20:49:55.405Z"
   },
   {
    "duration": 5,
    "start_time": "2025-01-07T20:49:55.410Z"
   },
   {
    "duration": 11,
    "start_time": "2025-01-07T20:49:55.417Z"
   },
   {
    "duration": 5,
    "start_time": "2025-01-07T20:49:55.430Z"
   },
   {
    "duration": 1953,
    "start_time": "2025-01-07T20:52:29.253Z"
   },
   {
    "duration": 1003,
    "start_time": "2025-01-07T20:52:31.208Z"
   },
   {
    "duration": 22,
    "start_time": "2025-01-07T20:52:32.212Z"
   },
   {
    "duration": 7,
    "start_time": "2025-01-07T20:52:32.237Z"
   },
   {
    "duration": 9,
    "start_time": "2025-01-07T20:52:32.245Z"
   },
   {
    "duration": 9,
    "start_time": "2025-01-07T20:52:32.255Z"
   },
   {
    "duration": 6,
    "start_time": "2025-01-07T20:52:32.265Z"
   },
   {
    "duration": 625,
    "start_time": "2025-01-07T20:52:32.272Z"
   },
   {
    "duration": 6,
    "start_time": "2025-01-07T20:52:32.899Z"
   },
   {
    "duration": 378,
    "start_time": "2025-01-07T20:52:32.909Z"
   },
   {
    "duration": 4,
    "start_time": "2025-01-07T20:52:33.288Z"
   },
   {
    "duration": 18,
    "start_time": "2025-01-07T20:52:33.294Z"
   },
   {
    "duration": 5,
    "start_time": "2025-01-07T20:52:33.314Z"
   },
   {
    "duration": 13,
    "start_time": "2025-01-07T20:52:33.320Z"
   },
   {
    "duration": 4,
    "start_time": "2025-01-07T20:52:33.334Z"
   },
   {
    "duration": 3,
    "start_time": "2025-01-07T20:52:33.340Z"
   },
   {
    "duration": 5,
    "start_time": "2025-01-07T20:52:33.344Z"
   },
   {
    "duration": 10,
    "start_time": "2025-01-07T20:52:33.350Z"
   },
   {
    "duration": 4,
    "start_time": "2025-01-07T20:52:33.361Z"
   },
   {
    "duration": 180,
    "start_time": "2025-01-07T20:57:22.111Z"
   },
   {
    "duration": 1966,
    "start_time": "2025-01-07T20:57:39.083Z"
   },
   {
    "duration": 1191,
    "start_time": "2025-01-07T20:57:41.052Z"
   },
   {
    "duration": 25,
    "start_time": "2025-01-07T20:57:42.244Z"
   },
   {
    "duration": 6,
    "start_time": "2025-01-07T20:57:42.273Z"
   },
   {
    "duration": 7,
    "start_time": "2025-01-07T20:57:42.281Z"
   },
   {
    "duration": 16,
    "start_time": "2025-01-07T20:57:42.290Z"
   },
   {
    "duration": 6,
    "start_time": "2025-01-07T20:57:42.309Z"
   },
   {
    "duration": 665,
    "start_time": "2025-01-07T20:57:42.317Z"
   },
   {
    "duration": 5,
    "start_time": "2025-01-07T20:57:42.984Z"
   },
   {
    "duration": 385,
    "start_time": "2025-01-07T20:57:42.993Z"
   },
   {
    "duration": 4,
    "start_time": "2025-01-07T20:57:43.380Z"
   },
   {
    "duration": 21,
    "start_time": "2025-01-07T20:57:43.385Z"
   },
   {
    "duration": 5,
    "start_time": "2025-01-07T20:57:43.407Z"
   },
   {
    "duration": 17,
    "start_time": "2025-01-07T20:57:43.414Z"
   },
   {
    "duration": 89,
    "start_time": "2025-01-07T20:57:43.433Z"
   },
   {
    "duration": 4,
    "start_time": "2025-01-07T20:57:43.524Z"
   },
   {
    "duration": 6,
    "start_time": "2025-01-07T20:57:43.529Z"
   },
   {
    "duration": 10,
    "start_time": "2025-01-07T20:57:43.536Z"
   },
   {
    "duration": 4,
    "start_time": "2025-01-07T20:57:43.547Z"
   },
   {
    "duration": 1988,
    "start_time": "2025-01-07T20:59:37.405Z"
   },
   {
    "duration": 941,
    "start_time": "2025-01-07T20:59:39.395Z"
   },
   {
    "duration": 21,
    "start_time": "2025-01-07T20:59:40.338Z"
   },
   {
    "duration": 7,
    "start_time": "2025-01-07T20:59:40.360Z"
   },
   {
    "duration": 7,
    "start_time": "2025-01-07T20:59:40.370Z"
   },
   {
    "duration": 28,
    "start_time": "2025-01-07T20:59:40.378Z"
   },
   {
    "duration": 6,
    "start_time": "2025-01-07T20:59:40.408Z"
   },
   {
    "duration": 570,
    "start_time": "2025-01-07T20:59:40.416Z"
   },
   {
    "duration": 6,
    "start_time": "2025-01-07T20:59:40.987Z"
   },
   {
    "duration": 405,
    "start_time": "2025-01-07T20:59:40.995Z"
   },
   {
    "duration": 4,
    "start_time": "2025-01-07T20:59:41.405Z"
   },
   {
    "duration": 10,
    "start_time": "2025-01-07T20:59:41.411Z"
   },
   {
    "duration": 7,
    "start_time": "2025-01-07T20:59:41.423Z"
   },
   {
    "duration": 11,
    "start_time": "2025-01-07T20:59:41.434Z"
   },
   {
    "duration": 3,
    "start_time": "2025-01-07T20:59:41.447Z"
   },
   {
    "duration": 4,
    "start_time": "2025-01-07T20:59:41.452Z"
   },
   {
    "duration": 5,
    "start_time": "2025-01-07T20:59:41.457Z"
   },
   {
    "duration": 47,
    "start_time": "2025-01-07T20:59:41.463Z"
   },
   {
    "duration": 6,
    "start_time": "2025-01-07T20:59:41.511Z"
   },
   {
    "duration": 1912,
    "start_time": "2025-01-07T21:10:15.953Z"
   },
   {
    "duration": 2051,
    "start_time": "2025-01-07T21:10:29.449Z"
   },
   {
    "duration": 1045,
    "start_time": "2025-01-07T21:10:31.503Z"
   },
   {
    "duration": 22,
    "start_time": "2025-01-07T21:10:32.549Z"
   },
   {
    "duration": 7,
    "start_time": "2025-01-07T21:10:32.573Z"
   },
   {
    "duration": 8,
    "start_time": "2025-01-07T21:10:32.581Z"
   },
   {
    "duration": 9,
    "start_time": "2025-01-07T21:10:32.606Z"
   },
   {
    "duration": 7,
    "start_time": "2025-01-07T21:10:32.617Z"
   },
   {
    "duration": 646,
    "start_time": "2025-01-07T21:10:32.625Z"
   },
   {
    "duration": 5,
    "start_time": "2025-01-07T21:10:33.273Z"
   },
   {
    "duration": 402,
    "start_time": "2025-01-07T21:10:33.281Z"
   },
   {
    "duration": 4,
    "start_time": "2025-01-07T21:10:33.685Z"
   },
   {
    "duration": 18,
    "start_time": "2025-01-07T21:10:33.691Z"
   },
   {
    "duration": 6,
    "start_time": "2025-01-07T21:10:33.710Z"
   },
   {
    "duration": 11,
    "start_time": "2025-01-07T21:10:33.719Z"
   },
   {
    "duration": 10,
    "start_time": "2025-01-07T21:10:33.732Z"
   },
   {
    "duration": 3,
    "start_time": "2025-01-07T21:10:33.744Z"
   },
   {
    "duration": 5,
    "start_time": "2025-01-07T21:10:33.749Z"
   },
   {
    "duration": 10,
    "start_time": "2025-01-07T21:10:33.756Z"
   },
   {
    "duration": 4,
    "start_time": "2025-01-07T21:10:33.768Z"
   },
   {
    "duration": 985333,
    "start_time": "2025-01-07T21:10:41.989Z"
   },
   {
    "duration": 44288,
    "start_time": "2025-01-07T22:02:34.838Z"
   },
   {
    "duration": 1947,
    "start_time": "2025-01-07T22:05:11.639Z"
   },
   {
    "duration": 935,
    "start_time": "2025-01-07T22:05:13.589Z"
   },
   {
    "duration": 21,
    "start_time": "2025-01-07T22:05:14.526Z"
   },
   {
    "duration": 6,
    "start_time": "2025-01-07T22:05:14.549Z"
   },
   {
    "duration": 7,
    "start_time": "2025-01-07T22:05:14.557Z"
   },
   {
    "duration": 7,
    "start_time": "2025-01-07T22:05:14.566Z"
   },
   {
    "duration": 31,
    "start_time": "2025-01-07T22:05:14.575Z"
   },
   {
    "duration": 1496,
    "start_time": "2025-01-07T22:05:14.607Z"
   },
   {
    "duration": 6,
    "start_time": "2025-01-07T22:05:16.104Z"
   },
   {
    "duration": 411,
    "start_time": "2025-01-07T22:05:16.114Z"
   },
   {
    "duration": 4,
    "start_time": "2025-01-07T22:05:16.527Z"
   },
   {
    "duration": 10,
    "start_time": "2025-01-07T22:05:16.532Z"
   },
   {
    "duration": 5,
    "start_time": "2025-01-07T22:05:16.543Z"
   },
   {
    "duration": 12,
    "start_time": "2025-01-07T22:05:16.550Z"
   },
   {
    "duration": 4,
    "start_time": "2025-01-07T22:05:16.563Z"
   },
   {
    "duration": 3,
    "start_time": "2025-01-07T22:05:16.568Z"
   },
   {
    "duration": 5,
    "start_time": "2025-01-07T22:05:16.573Z"
   },
   {
    "duration": 31,
    "start_time": "2025-01-07T22:05:16.579Z"
   },
   {
    "duration": 4,
    "start_time": "2025-01-07T22:05:16.611Z"
   },
   {
    "duration": 5,
    "start_time": "2025-01-07T22:05:16.617Z"
   },
   {
    "duration": 9,
    "start_time": "2025-01-07T22:05:16.624Z"
   },
   {
    "duration": 6,
    "start_time": "2025-01-07T22:05:16.635Z"
   },
   {
    "duration": 10,
    "start_time": "2025-01-07T22:05:16.704Z"
   },
   {
    "duration": 169154,
    "start_time": "2025-01-07T22:05:16.717Z"
   },
   {
    "duration": 4040,
    "start_time": "2025-01-07T22:08:05.873Z"
   },
   {
    "duration": 4,
    "start_time": "2025-01-07T22:08:09.915Z"
   },
   {
    "duration": 4,
    "start_time": "2025-01-07T22:08:09.921Z"
   },
   {
    "duration": 9424,
    "start_time": "2025-01-07T22:08:09.929Z"
   },
   {
    "duration": 10,
    "start_time": "2025-01-07T22:08:19.357Z"
   },
   {
    "duration": 7,
    "start_time": "2025-01-07T22:08:19.368Z"
   },
   {
    "duration": 1925,
    "start_time": "2025-01-07T22:10:43.864Z"
   },
   {
    "duration": 933,
    "start_time": "2025-01-07T22:10:45.792Z"
   },
   {
    "duration": 21,
    "start_time": "2025-01-07T22:10:46.728Z"
   },
   {
    "duration": 6,
    "start_time": "2025-01-07T22:10:46.752Z"
   },
   {
    "duration": 8,
    "start_time": "2025-01-07T22:10:46.760Z"
   },
   {
    "duration": 7,
    "start_time": "2025-01-07T22:10:46.769Z"
   },
   {
    "duration": 32,
    "start_time": "2025-01-07T22:10:46.777Z"
   },
   {
    "duration": 579,
    "start_time": "2025-01-07T22:10:46.810Z"
   },
   {
    "duration": 5,
    "start_time": "2025-01-07T22:10:47.392Z"
   },
   {
    "duration": 372,
    "start_time": "2025-01-07T22:10:47.400Z"
   },
   {
    "duration": 4,
    "start_time": "2025-01-07T22:10:47.774Z"
   },
   {
    "duration": 10,
    "start_time": "2025-01-07T22:10:47.780Z"
   },
   {
    "duration": 18,
    "start_time": "2025-01-07T22:10:47.791Z"
   },
   {
    "duration": 12,
    "start_time": "2025-01-07T22:10:47.810Z"
   },
   {
    "duration": 3,
    "start_time": "2025-01-07T22:10:47.824Z"
   },
   {
    "duration": 3,
    "start_time": "2025-01-07T22:10:47.829Z"
   },
   {
    "duration": 5,
    "start_time": "2025-01-07T22:10:47.833Z"
   },
   {
    "duration": 10,
    "start_time": "2025-01-07T22:10:47.839Z"
   },
   {
    "duration": 4,
    "start_time": "2025-01-07T22:10:47.851Z"
   },
   {
    "duration": 4,
    "start_time": "2025-01-07T22:10:47.856Z"
   },
   {
    "duration": 48,
    "start_time": "2025-01-07T22:10:47.861Z"
   },
   {
    "duration": 6,
    "start_time": "2025-01-07T22:10:47.911Z"
   },
   {
    "duration": 8,
    "start_time": "2025-01-07T22:10:47.919Z"
   },
   {
    "duration": 169241,
    "start_time": "2025-01-07T22:10:47.929Z"
   },
   {
    "duration": 4021,
    "start_time": "2025-01-07T22:13:37.172Z"
   },
   {
    "duration": 4,
    "start_time": "2025-01-07T22:13:41.195Z"
   },
   {
    "duration": 4,
    "start_time": "2025-01-07T22:13:41.201Z"
   },
   {
    "duration": 9786,
    "start_time": "2025-01-07T22:13:41.209Z"
   },
   {
    "duration": 12,
    "start_time": "2025-01-07T22:13:51.005Z"
   },
   {
    "duration": 6,
    "start_time": "2025-01-07T22:13:51.019Z"
   },
   {
    "duration": 1968,
    "start_time": "2025-01-07T22:31:50.198Z"
   },
   {
    "duration": 987,
    "start_time": "2025-01-07T22:31:52.168Z"
   },
   {
    "duration": 22,
    "start_time": "2025-01-07T22:31:53.157Z"
   },
   {
    "duration": 7,
    "start_time": "2025-01-07T22:31:53.181Z"
   },
   {
    "duration": 21,
    "start_time": "2025-01-07T22:31:53.190Z"
   },
   {
    "duration": 7,
    "start_time": "2025-01-07T22:31:53.213Z"
   },
   {
    "duration": 6,
    "start_time": "2025-01-07T22:31:53.221Z"
   },
   {
    "duration": 601,
    "start_time": "2025-01-07T22:31:53.229Z"
   },
   {
    "duration": 5,
    "start_time": "2025-01-07T22:31:53.832Z"
   },
   {
    "duration": 414,
    "start_time": "2025-01-07T22:31:53.840Z"
   },
   {
    "duration": 4,
    "start_time": "2025-01-07T22:31:54.256Z"
   },
   {
    "duration": 9,
    "start_time": "2025-01-07T22:31:54.261Z"
   },
   {
    "duration": 5,
    "start_time": "2025-01-07T22:31:54.271Z"
   },
   {
    "duration": 28,
    "start_time": "2025-01-07T22:31:54.278Z"
   },
   {
    "duration": 3,
    "start_time": "2025-01-07T22:31:54.308Z"
   },
   {
    "duration": 3,
    "start_time": "2025-01-07T22:31:54.314Z"
   },
   {
    "duration": 5,
    "start_time": "2025-01-07T22:31:54.319Z"
   },
   {
    "duration": 10,
    "start_time": "2025-01-07T22:31:54.326Z"
   },
   {
    "duration": 5,
    "start_time": "2025-01-07T22:31:54.337Z"
   },
   {
    "duration": 4,
    "start_time": "2025-01-07T22:31:54.343Z"
   },
   {
    "duration": 56,
    "start_time": "2025-01-07T22:31:54.349Z"
   },
   {
    "duration": 4,
    "start_time": "2025-01-07T22:31:54.408Z"
   },
   {
    "duration": 11,
    "start_time": "2025-01-07T22:31:54.414Z"
   },
   {
    "duration": 169933,
    "start_time": "2025-01-07T22:31:54.427Z"
   },
   {
    "duration": 4018,
    "start_time": "2025-01-07T22:34:44.363Z"
   },
   {
    "duration": 4,
    "start_time": "2025-01-07T22:34:48.382Z"
   },
   {
    "duration": 4,
    "start_time": "2025-01-07T22:34:48.388Z"
   },
   {
    "duration": 9725,
    "start_time": "2025-01-07T22:34:48.396Z"
   },
   {
    "duration": 11,
    "start_time": "2025-01-07T22:34:58.123Z"
   },
   {
    "duration": 6,
    "start_time": "2025-01-07T22:34:58.136Z"
   },
   {
    "duration": 1003563,
    "start_time": "2025-01-07T22:34:58.143Z"
   },
   {
    "duration": 0,
    "start_time": "2025-01-07T22:51:41.708Z"
   },
   {
    "duration": 0,
    "start_time": "2025-01-07T22:51:41.710Z"
   },
   {
    "duration": 159,
    "start_time": "2025-01-07T23:11:33.143Z"
   },
   {
    "duration": 1945,
    "start_time": "2025-01-07T23:11:45.617Z"
   },
   {
    "duration": 1217,
    "start_time": "2025-01-07T23:11:47.564Z"
   },
   {
    "duration": 33,
    "start_time": "2025-01-07T23:11:48.783Z"
   },
   {
    "duration": 8,
    "start_time": "2025-01-07T23:11:48.818Z"
   },
   {
    "duration": 7,
    "start_time": "2025-01-07T23:11:48.828Z"
   },
   {
    "duration": 7,
    "start_time": "2025-01-07T23:11:48.837Z"
   },
   {
    "duration": 6,
    "start_time": "2025-01-07T23:11:48.845Z"
   },
   {
    "duration": 620,
    "start_time": "2025-01-07T23:11:48.853Z"
   },
   {
    "duration": 6,
    "start_time": "2025-01-07T23:11:49.475Z"
   },
   {
    "duration": 406,
    "start_time": "2025-01-07T23:11:49.484Z"
   },
   {
    "duration": 4,
    "start_time": "2025-01-07T23:11:49.892Z"
   },
   {
    "duration": 11,
    "start_time": "2025-01-07T23:11:49.905Z"
   },
   {
    "duration": 5,
    "start_time": "2025-01-07T23:11:49.918Z"
   },
   {
    "duration": 12,
    "start_time": "2025-01-07T23:11:49.925Z"
   },
   {
    "duration": 102,
    "start_time": "2025-01-07T23:11:49.938Z"
   },
   {
    "duration": 4,
    "start_time": "2025-01-07T23:11:50.042Z"
   },
   {
    "duration": 6,
    "start_time": "2025-01-07T23:11:50.048Z"
   },
   {
    "duration": 10,
    "start_time": "2025-01-07T23:11:50.057Z"
   },
   {
    "duration": 5,
    "start_time": "2025-01-07T23:11:50.068Z"
   },
   {
    "duration": 99272,
    "start_time": "2025-01-07T23:11:59.354Z"
   },
   {
    "duration": 99766,
    "start_time": "2025-01-07T23:16:00.022Z"
   },
   {
    "duration": 99696,
    "start_time": "2025-01-07T23:18:01.073Z"
   },
   {
    "duration": 1950,
    "start_time": "2025-01-07T23:27:44.141Z"
   },
   {
    "duration": 925,
    "start_time": "2025-01-07T23:27:46.093Z"
   },
   {
    "duration": 22,
    "start_time": "2025-01-07T23:27:47.019Z"
   },
   {
    "duration": 7,
    "start_time": "2025-01-07T23:27:47.042Z"
   },
   {
    "duration": 9,
    "start_time": "2025-01-07T23:27:47.052Z"
   },
   {
    "duration": 7,
    "start_time": "2025-01-07T23:27:47.064Z"
   },
   {
    "duration": 6,
    "start_time": "2025-01-07T23:27:47.074Z"
   },
   {
    "duration": 573,
    "start_time": "2025-01-07T23:27:47.104Z"
   },
   {
    "duration": 5,
    "start_time": "2025-01-07T23:27:47.679Z"
   },
   {
    "duration": 385,
    "start_time": "2025-01-07T23:27:47.686Z"
   },
   {
    "duration": 4,
    "start_time": "2025-01-07T23:27:48.073Z"
   },
   {
    "duration": 9,
    "start_time": "2025-01-07T23:27:48.080Z"
   },
   {
    "duration": 19,
    "start_time": "2025-01-07T23:27:48.090Z"
   },
   {
    "duration": 13,
    "start_time": "2025-01-07T23:27:48.111Z"
   },
   {
    "duration": 4,
    "start_time": "2025-01-07T23:27:48.126Z"
   },
   {
    "duration": 3,
    "start_time": "2025-01-07T23:27:48.131Z"
   },
   {
    "duration": 5,
    "start_time": "2025-01-07T23:27:48.136Z"
   },
   {
    "duration": 11,
    "start_time": "2025-01-07T23:27:48.143Z"
   },
   {
    "duration": 4,
    "start_time": "2025-01-07T23:27:48.155Z"
   },
   {
    "duration": 142547,
    "start_time": "2025-01-07T23:27:54.561Z"
   },
   {
    "duration": 1998,
    "start_time": "2025-01-07T23:37:32.029Z"
   },
   {
    "duration": 998,
    "start_time": "2025-01-07T23:37:34.030Z"
   },
   {
    "duration": 22,
    "start_time": "2025-01-07T23:37:35.030Z"
   },
   {
    "duration": 8,
    "start_time": "2025-01-07T23:37:35.053Z"
   },
   {
    "duration": 8,
    "start_time": "2025-01-07T23:37:35.063Z"
   },
   {
    "duration": 8,
    "start_time": "2025-01-07T23:37:35.073Z"
   },
   {
    "duration": 6,
    "start_time": "2025-01-07T23:37:35.105Z"
   },
   {
    "duration": 561,
    "start_time": "2025-01-07T23:37:35.113Z"
   },
   {
    "duration": 5,
    "start_time": "2025-01-07T23:37:35.676Z"
   },
   {
    "duration": 388,
    "start_time": "2025-01-07T23:37:35.682Z"
   },
   {
    "duration": 4,
    "start_time": "2025-01-07T23:37:36.072Z"
   },
   {
    "duration": 9,
    "start_time": "2025-01-07T23:37:36.078Z"
   },
   {
    "duration": 21,
    "start_time": "2025-01-07T23:37:36.088Z"
   },
   {
    "duration": 12,
    "start_time": "2025-01-07T23:37:36.111Z"
   },
   {
    "duration": 3,
    "start_time": "2025-01-07T23:37:36.125Z"
   },
   {
    "duration": 2,
    "start_time": "2025-01-07T23:37:36.132Z"
   },
   {
    "duration": 5,
    "start_time": "2025-01-07T23:37:36.136Z"
   },
   {
    "duration": 9,
    "start_time": "2025-01-07T23:37:36.142Z"
   },
   {
    "duration": 4,
    "start_time": "2025-01-07T23:37:36.153Z"
   },
   {
    "duration": 142787,
    "start_time": "2025-01-07T23:37:42.047Z"
   },
   {
    "duration": 306,
    "start_time": "2025-01-07T23:41:07.034Z"
   },
   {
    "duration": 1987,
    "start_time": "2025-01-07T23:41:31.813Z"
   },
   {
    "duration": 3,
    "start_time": "2025-01-07T23:41:33.803Z"
   },
   {
    "duration": 22,
    "start_time": "2025-01-07T23:41:33.808Z"
   },
   {
    "duration": 6,
    "start_time": "2025-01-07T23:41:33.832Z"
   },
   {
    "duration": 8,
    "start_time": "2025-01-07T23:41:33.841Z"
   },
   {
    "duration": 6,
    "start_time": "2025-01-07T23:41:33.850Z"
   },
   {
    "duration": 6,
    "start_time": "2025-01-07T23:41:33.858Z"
   },
   {
    "duration": 593,
    "start_time": "2025-01-07T23:41:33.866Z"
   },
   {
    "duration": 6,
    "start_time": "2025-01-07T23:41:34.461Z"
   },
   {
    "duration": 427,
    "start_time": "2025-01-07T23:41:34.468Z"
   },
   {
    "duration": 7,
    "start_time": "2025-01-07T23:41:34.897Z"
   },
   {
    "duration": 9,
    "start_time": "2025-01-07T23:41:34.906Z"
   },
   {
    "duration": 6,
    "start_time": "2025-01-07T23:41:34.916Z"
   },
   {
    "duration": 13,
    "start_time": "2025-01-07T23:41:34.925Z"
   },
   {
    "duration": 3,
    "start_time": "2025-01-07T23:41:34.939Z"
   },
   {
    "duration": 3,
    "start_time": "2025-01-07T23:41:34.944Z"
   },
   {
    "duration": 6,
    "start_time": "2025-01-07T23:41:34.949Z"
   },
   {
    "duration": 10,
    "start_time": "2025-01-07T23:41:34.956Z"
   },
   {
    "duration": 38,
    "start_time": "2025-01-07T23:41:34.968Z"
   },
   {
    "duration": 4,
    "start_time": "2025-01-07T23:41:35.007Z"
   },
   {
    "duration": 9,
    "start_time": "2025-01-07T23:41:35.012Z"
   },
   {
    "duration": 4,
    "start_time": "2025-01-07T23:41:35.023Z"
   },
   {
    "duration": 77,
    "start_time": "2025-01-07T23:41:35.028Z"
   },
   {
    "duration": 169018,
    "start_time": "2025-01-07T23:41:35.111Z"
   },
   {
    "duration": 3990,
    "start_time": "2025-01-07T23:44:24.131Z"
   },
   {
    "duration": 3,
    "start_time": "2025-01-07T23:44:28.123Z"
   },
   {
    "duration": 5,
    "start_time": "2025-01-07T23:44:28.128Z"
   },
   {
    "duration": 9484,
    "start_time": "2025-01-07T23:44:28.135Z"
   },
   {
    "duration": 10,
    "start_time": "2025-01-07T23:44:37.621Z"
   },
   {
    "duration": 7,
    "start_time": "2025-01-07T23:44:37.634Z"
   },
   {
    "duration": 19,
    "start_time": "2025-01-07T23:44:46.563Z"
   },
   {
    "duration": 34,
    "start_time": "2025-01-07T23:45:22.147Z"
   },
   {
    "duration": 285,
    "start_time": "2025-01-07T23:45:24.814Z"
   },
   {
    "duration": 10,
    "start_time": "2025-01-07T23:46:29.755Z"
   },
   {
    "duration": 9,
    "start_time": "2025-01-07T23:46:32.089Z"
   }
  ],
  "kernelspec": {
   "display_name": "Python 3 (ipykernel)",
   "language": "python",
   "name": "python3"
  },
  "language_info": {
   "codemirror_mode": {
    "name": "ipython",
    "version": 3
   },
   "file_extension": ".py",
   "mimetype": "text/x-python",
   "name": "python",
   "nbconvert_exporter": "python",
   "pygments_lexer": "ipython3",
   "version": "3.13.2"
  },
  "toc": {
   "base_numbering": 1,
   "nav_menu": {},
   "number_sections": true,
   "sideBar": true,
   "skip_h1_title": true,
   "title_cell": "Table of Contents",
   "title_sidebar": "Contents",
   "toc_cell": false,
   "toc_position": {},
   "toc_section_display": true,
   "toc_window_display": false
  }
 },
 "nbformat": 4,
 "nbformat_minor": 4
}
